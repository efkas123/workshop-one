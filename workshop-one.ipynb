{
 "cells": [
  {
   "cell_type": "markdown",
   "id": "39df99f8",
   "metadata": {
    "tags": [],
    "toc-hr-collapsed": true
   },
   "source": [
    "# Проект: стоимость подержанного автомобиля"
   ]
  },
  {
   "cell_type": "markdown",
   "id": "8973168f",
   "metadata": {
    "tags": []
   },
   "source": [
    "## Описание проекта"
   ]
  },
  {
   "cell_type": "markdown",
   "id": "ec7032b9",
   "metadata": {},
   "source": [
    "Многие знают про маркетплейсы где продаются б/у вещи, на которых есть возможность недорого купить качественную и полезную вещь. Но всегда волнует вопрос - кто и как устанавливает цену, и какие его характеристики больше всего влияют на итоговую стоимость продажи?! Вопрос становится особо актуальным, если речь идет про дорогие товары, например про автомобили!\n",
    "\n",
    "Нам необходимо разработать модель, которая максимально точно сможет предсказать стоимость автомобиля на вторичном рынке"
   ]
  },
  {
   "cell_type": "markdown",
   "id": "94621719",
   "metadata": {},
   "source": [
    "## Описание данных"
   ]
  },
  {
   "cell_type": "markdown",
   "id": "aac7ac65",
   "metadata": {},
   "source": [
    "- Date: Год выпуска автомобиля.\n",
    "- Make: Марка автомобиля.\n",
    "- Model: издание автомобиля определенной марки.\n",
    "- Trim: Уровни отделки салона автомобиля — это просто разные версии модели.\n",
    "- Body: Тип кузова транспортного средства относится к форме и модели конкретной марки автомобиля.\n",
    "- Transmission: механизм, который передает мощность от двигателя к колесам.\n",
    "- VIN: идентификационный номер транспортного средства.\n",
    "- State: состояние, в котором автомобиль выставлен на аукцион.\n",
    "- Condition: Состояние автомобилей на момент аукциона.\n",
    "- Odometer: расстояние, пройденное автомобилем с момента выпуска.\n",
    "- Color: Цвет кузова автомобиля.\n",
    "- Interior: Цвет салона автомобиля.\n",
    "- Seller: Продавец автомобиля, автосалоны.\n",
    "- mmr: Рекорд рынка Manhiem, рыночная оценочная цена автомобилей.\n",
    "- sellingprice: цена, по которой автомобиль был продан на аукционе.\n",
    "- saledate: Дата продажи автомобиля."
   ]
  },
  {
   "cell_type": "markdown",
   "id": "d5762f70",
   "metadata": {
    "toc-hr-collapsed": true
   },
   "source": [
    "# Открываем файлы"
   ]
  },
  {
   "cell_type": "markdown",
   "id": "9c8c80bf",
   "metadata": {},
   "source": [
    "## Импортируем библиотеки"
   ]
  },
  {
   "cell_type": "code",
   "execution_count": 1,
   "id": "7939392e",
   "metadata": {},
   "outputs": [],
   "source": [
    "import pandas as pd\n",
    "#from ydata_profiling import ProfileReport\n",
    "import numpy as np\n",
    "import matplotlib.pyplot as plt\n",
    "import category_encoders as ce\n",
    "from sklearn.preprocessing import StandardScaler\n",
    "from sklearn.model_selection import GridSearchCV\n",
    "from sklearn.ensemble import GradientBoostingRegressor\n",
    "from sklearn.ensemble import RandomForestRegressor\n",
    "from catboost import CatBoostRegressor\n",
    "from vininfo import Vin\n",
    "from pyvin import VIN\n",
    "from tqdm import tqdm\n",
    "import seaborn as sns\n",
    "\n",
    "##import warnings\n",
    "##warnings.filterwarnings(\"ignore\")"
   ]
  },
  {
   "cell_type": "code",
   "execution_count": 2,
   "id": "a68718f8-981e-45f8-b18a-935ff38e209e",
   "metadata": {
    "tags": []
   },
   "outputs": [],
   "source": [
    "#tqdm.pandas()"
   ]
  },
  {
   "cell_type": "code",
   "execution_count": 3,
   "id": "f81ef4dd-c961-43e9-b8ef-5702642b6521",
   "metadata": {},
   "outputs": [],
   "source": [
    "pd.set_option('display.max_columns', None)"
   ]
  },
  {
   "cell_type": "code",
   "execution_count": 4,
   "id": "cd08789b",
   "metadata": {},
   "outputs": [],
   "source": [
    "#Объявим константу(ы)\n",
    "RS = 31415"
   ]
  },
  {
   "cell_type": "markdown",
   "id": "719eda93",
   "metadata": {},
   "source": [
    "## Открываем файлы"
   ]
  },
  {
   "cell_type": "code",
   "execution_count": 5,
   "id": "730be260",
   "metadata": {},
   "outputs": [],
   "source": [
    "data_train = pd.read_csv('./datasets/train.csv')\n",
    "data_test = pd.read_csv('./datasets/test.csv')"
   ]
  },
  {
   "cell_type": "markdown",
   "id": "38691462",
   "metadata": {},
   "source": [
    "Ydata Profiling категорически отказался работать с этим датасетом, в телеграм чате никакого решения не нашли. Другие популярные библиотеки для data profiling'a тоже отказались работать, поэтому придётся изучить данные вручную."
   ]
  },
  {
   "cell_type": "code",
   "execution_count": 6,
   "id": "43fae72f",
   "metadata": {},
   "outputs": [],
   "source": [
    "#profile_train = ProfileReport(data_train)\n",
    "#profile_train\n",
    "#data_test.profile_report()"
   ]
  },
  {
   "cell_type": "markdown",
   "id": "72ac0804",
   "metadata": {},
   "source": [
    "## Знакомство с данными"
   ]
  },
  {
   "cell_type": "code",
   "execution_count": 7,
   "id": "c83f448d",
   "metadata": {},
   "outputs": [],
   "source": [
    "#Используем функцию для ознакомления с данными\n",
    "def eda(data):\n",
    "    data.info()\n",
    "    print()\n",
    "    data.describe()\n",
    "    print()\n",
    "    print(f\"Очевидных строк-дубликатов в датасете: {data.duplicated().sum()}\")\n",
    "    print()\n",
    "    print(f\"Пропусков в датасете: {data.isna().sum()}\")"
   ]
  },
  {
   "cell_type": "code",
   "execution_count": 8,
   "id": "e3d903f0",
   "metadata": {},
   "outputs": [
    {
     "data": {
      "text/html": [
       "<div>\n",
       "<style scoped>\n",
       "    .dataframe tbody tr th:only-of-type {\n",
       "        vertical-align: middle;\n",
       "    }\n",
       "\n",
       "    .dataframe tbody tr th {\n",
       "        vertical-align: top;\n",
       "    }\n",
       "\n",
       "    .dataframe thead th {\n",
       "        text-align: right;\n",
       "    }\n",
       "</style>\n",
       "<table border=\"1\" class=\"dataframe\">\n",
       "  <thead>\n",
       "    <tr style=\"text-align: right;\">\n",
       "      <th></th>\n",
       "      <th>year</th>\n",
       "      <th>make</th>\n",
       "      <th>model</th>\n",
       "      <th>trim</th>\n",
       "      <th>body</th>\n",
       "      <th>transmission</th>\n",
       "      <th>vin</th>\n",
       "      <th>state</th>\n",
       "      <th>condition</th>\n",
       "      <th>odometer</th>\n",
       "      <th>color</th>\n",
       "      <th>interior</th>\n",
       "      <th>seller</th>\n",
       "      <th>sellingprice</th>\n",
       "      <th>saledate</th>\n",
       "    </tr>\n",
       "  </thead>\n",
       "  <tbody>\n",
       "    <tr>\n",
       "      <th>8068</th>\n",
       "      <td>2007</td>\n",
       "      <td>Ford</td>\n",
       "      <td>Taurus</td>\n",
       "      <td>SE Fleet</td>\n",
       "      <td>Sedan</td>\n",
       "      <td>automatic</td>\n",
       "      <td>1fafp53u57a105709</td>\n",
       "      <td>az</td>\n",
       "      <td>1.9</td>\n",
       "      <td>135713.0</td>\n",
       "      <td>silver</td>\n",
       "      <td>gray</td>\n",
       "      <td>california auto finance</td>\n",
       "      <td>950</td>\n",
       "      <td>Thu May 21 2015 05:00:00 GMT-0700 (PDT)</td>\n",
       "    </tr>\n",
       "    <tr>\n",
       "      <th>85943</th>\n",
       "      <td>2013</td>\n",
       "      <td>Ram</td>\n",
       "      <td>1500</td>\n",
       "      <td>Tradesman</td>\n",
       "      <td>Regular Cab</td>\n",
       "      <td>automatic</td>\n",
       "      <td>3c6jr7at5dg533076</td>\n",
       "      <td>nv</td>\n",
       "      <td>4.4</td>\n",
       "      <td>24692.0</td>\n",
       "      <td>blue</td>\n",
       "      <td>gray</td>\n",
       "      <td>lexus of las vegas</td>\n",
       "      <td>22500</td>\n",
       "      <td>Fri Feb 06 2015 03:45:00 GMT-0800 (PST)</td>\n",
       "    </tr>\n",
       "    <tr>\n",
       "      <th>340122</th>\n",
       "      <td>2012</td>\n",
       "      <td>Ram</td>\n",
       "      <td>1500</td>\n",
       "      <td>Sport</td>\n",
       "      <td>Crew Cab</td>\n",
       "      <td>automatic</td>\n",
       "      <td>1c6rd7mt4cs187784</td>\n",
       "      <td>pa</td>\n",
       "      <td>3.4</td>\n",
       "      <td>38455.0</td>\n",
       "      <td>blue</td>\n",
       "      <td>black</td>\n",
       "      <td>randy ford inc</td>\n",
       "      <td>26100</td>\n",
       "      <td>Fri Feb 27 2015 01:15:00 GMT-0800 (PST)</td>\n",
       "    </tr>\n",
       "    <tr>\n",
       "      <th>354209</th>\n",
       "      <td>2014</td>\n",
       "      <td>Dodge</td>\n",
       "      <td>Grand Caravan</td>\n",
       "      <td>R/T</td>\n",
       "      <td>Minivan</td>\n",
       "      <td>automatic</td>\n",
       "      <td>2c4rdgeg7er431135</td>\n",
       "      <td>pa</td>\n",
       "      <td>4.0</td>\n",
       "      <td>17539.0</td>\n",
       "      <td>gray</td>\n",
       "      <td>black</td>\n",
       "      <td>enterprise holdings/gdp</td>\n",
       "      <td>18800</td>\n",
       "      <td>Thu Jan 22 2015 01:30:00 GMT-0800 (PST)</td>\n",
       "    </tr>\n",
       "    <tr>\n",
       "      <th>390146</th>\n",
       "      <td>2014</td>\n",
       "      <td>Toyota</td>\n",
       "      <td>Corolla</td>\n",
       "      <td>LE</td>\n",
       "      <td>sedan</td>\n",
       "      <td>NaN</td>\n",
       "      <td>2t1burhe2ec060120</td>\n",
       "      <td>pa</td>\n",
       "      <td>4.1</td>\n",
       "      <td>33424.0</td>\n",
       "      <td>gray</td>\n",
       "      <td>gray</td>\n",
       "      <td>kentland car co inc</td>\n",
       "      <td>13000</td>\n",
       "      <td>Fri Jun 05 2015 02:00:00 GMT-0700 (PDT)</td>\n",
       "    </tr>\n",
       "    <tr>\n",
       "      <th>354843</th>\n",
       "      <td>2006</td>\n",
       "      <td>Nissan</td>\n",
       "      <td>Altima</td>\n",
       "      <td>2.5</td>\n",
       "      <td>Sedan</td>\n",
       "      <td>automatic</td>\n",
       "      <td>1n4al11d16c189225</td>\n",
       "      <td>nc</td>\n",
       "      <td>2.9</td>\n",
       "      <td>159968.0</td>\n",
       "      <td>silver</td>\n",
       "      <td>black</td>\n",
       "      <td>dt credit corporation</td>\n",
       "      <td>2300</td>\n",
       "      <td>Tue Jan 20 2015 01:30:00 GMT-0800 (PST)</td>\n",
       "    </tr>\n",
       "    <tr>\n",
       "      <th>425271</th>\n",
       "      <td>2007</td>\n",
       "      <td>NaN</td>\n",
       "      <td>NaN</td>\n",
       "      <td>NaN</td>\n",
       "      <td>NaN</td>\n",
       "      <td>manual</td>\n",
       "      <td>1g1aj55f577282934</td>\n",
       "      <td>mi</td>\n",
       "      <td>4.5</td>\n",
       "      <td>64205.0</td>\n",
       "      <td>gold</td>\n",
       "      <td>tan</td>\n",
       "      <td>automobiles paille inc</td>\n",
       "      <td>4000</td>\n",
       "      <td>Thu Jun 18 2015 02:30:00 GMT-0700 (PDT)</td>\n",
       "    </tr>\n",
       "    <tr>\n",
       "      <th>248415</th>\n",
       "      <td>1999</td>\n",
       "      <td>Ford</td>\n",
       "      <td>Ranger</td>\n",
       "      <td>XLT</td>\n",
       "      <td>Regular Cab</td>\n",
       "      <td>manual</td>\n",
       "      <td>1ftyr10c9xta51711</td>\n",
       "      <td>fl</td>\n",
       "      <td>1.9</td>\n",
       "      <td>225065.0</td>\n",
       "      <td>black</td>\n",
       "      <td>gray</td>\n",
       "      <td>rick case hyundai inc</td>\n",
       "      <td>700</td>\n",
       "      <td>Thu Jan 08 2015 03:00:00 GMT-0800 (PST)</td>\n",
       "    </tr>\n",
       "    <tr>\n",
       "      <th>164965</th>\n",
       "      <td>2012</td>\n",
       "      <td>GMC</td>\n",
       "      <td>Acadia</td>\n",
       "      <td>SLT-1</td>\n",
       "      <td>suv</td>\n",
       "      <td>automatic</td>\n",
       "      <td>1gkkrred3cj268915</td>\n",
       "      <td>ca</td>\n",
       "      <td>3.2</td>\n",
       "      <td>16710.0</td>\n",
       "      <td>silver</td>\n",
       "      <td>black</td>\n",
       "      <td>fiserv/usb dealer services northstar exchange</td>\n",
       "      <td>26250</td>\n",
       "      <td>Tue Jun 02 2015 05:30:00 GMT-0700 (PDT)</td>\n",
       "    </tr>\n",
       "    <tr>\n",
       "      <th>386412</th>\n",
       "      <td>2014</td>\n",
       "      <td>Toyota</td>\n",
       "      <td>Camry</td>\n",
       "      <td>SE</td>\n",
       "      <td>Sedan</td>\n",
       "      <td>automatic</td>\n",
       "      <td>4t1bf1fk2eu400837</td>\n",
       "      <td>nv</td>\n",
       "      <td>3.7</td>\n",
       "      <td>11431.0</td>\n",
       "      <td>black</td>\n",
       "      <td>black</td>\n",
       "      <td>toyota motor sales usa inc/program</td>\n",
       "      <td>17200</td>\n",
       "      <td>Fri Jan 23 2015 04:00:00 GMT-0800 (PST)</td>\n",
       "    </tr>\n",
       "  </tbody>\n",
       "</table>\n",
       "</div>"
      ],
      "text/plain": [
       "        year    make          model       trim         body transmission  \\\n",
       "8068    2007    Ford         Taurus   SE Fleet        Sedan    automatic   \n",
       "85943   2013     Ram           1500  Tradesman  Regular Cab    automatic   \n",
       "340122  2012     Ram           1500      Sport     Crew Cab    automatic   \n",
       "354209  2014   Dodge  Grand Caravan        R/T      Minivan    automatic   \n",
       "390146  2014  Toyota        Corolla         LE        sedan          NaN   \n",
       "354843  2006  Nissan         Altima        2.5        Sedan    automatic   \n",
       "425271  2007     NaN            NaN        NaN          NaN       manual   \n",
       "248415  1999    Ford         Ranger        XLT  Regular Cab       manual   \n",
       "164965  2012     GMC         Acadia      SLT-1          suv    automatic   \n",
       "386412  2014  Toyota          Camry         SE        Sedan    automatic   \n",
       "\n",
       "                      vin state  condition  odometer   color interior  \\\n",
       "8068    1fafp53u57a105709    az        1.9  135713.0  silver     gray   \n",
       "85943   3c6jr7at5dg533076    nv        4.4   24692.0    blue     gray   \n",
       "340122  1c6rd7mt4cs187784    pa        3.4   38455.0    blue    black   \n",
       "354209  2c4rdgeg7er431135    pa        4.0   17539.0    gray    black   \n",
       "390146  2t1burhe2ec060120    pa        4.1   33424.0    gray     gray   \n",
       "354843  1n4al11d16c189225    nc        2.9  159968.0  silver    black   \n",
       "425271  1g1aj55f577282934    mi        4.5   64205.0    gold      tan   \n",
       "248415  1ftyr10c9xta51711    fl        1.9  225065.0   black     gray   \n",
       "164965  1gkkrred3cj268915    ca        3.2   16710.0  silver    black   \n",
       "386412  4t1bf1fk2eu400837    nv        3.7   11431.0   black    black   \n",
       "\n",
       "                                               seller  sellingprice  \\\n",
       "8068                          california auto finance           950   \n",
       "85943                              lexus of las vegas         22500   \n",
       "340122                                 randy ford inc         26100   \n",
       "354209                        enterprise holdings/gdp         18800   \n",
       "390146                            kentland car co inc         13000   \n",
       "354843                          dt credit corporation          2300   \n",
       "425271                         automobiles paille inc          4000   \n",
       "248415                          rick case hyundai inc           700   \n",
       "164965  fiserv/usb dealer services northstar exchange         26250   \n",
       "386412             toyota motor sales usa inc/program         17200   \n",
       "\n",
       "                                       saledate  \n",
       "8068    Thu May 21 2015 05:00:00 GMT-0700 (PDT)  \n",
       "85943   Fri Feb 06 2015 03:45:00 GMT-0800 (PST)  \n",
       "340122  Fri Feb 27 2015 01:15:00 GMT-0800 (PST)  \n",
       "354209  Thu Jan 22 2015 01:30:00 GMT-0800 (PST)  \n",
       "390146  Fri Jun 05 2015 02:00:00 GMT-0700 (PDT)  \n",
       "354843  Tue Jan 20 2015 01:30:00 GMT-0800 (PST)  \n",
       "425271  Thu Jun 18 2015 02:30:00 GMT-0700 (PDT)  \n",
       "248415  Thu Jan 08 2015 03:00:00 GMT-0800 (PST)  \n",
       "164965  Tue Jun 02 2015 05:30:00 GMT-0700 (PDT)  \n",
       "386412  Fri Jan 23 2015 04:00:00 GMT-0800 (PST)  "
      ]
     },
     "execution_count": 8,
     "metadata": {},
     "output_type": "execute_result"
    }
   ],
   "source": [
    "data_train.sample(10, random_state=RS)"
   ]
  },
  {
   "cell_type": "code",
   "execution_count": 9,
   "id": "4fc7874e",
   "metadata": {},
   "outputs": [
    {
     "name": "stdout",
     "output_type": "stream",
     "text": [
      "<class 'pandas.core.frame.DataFrame'>\n",
      "RangeIndex: 440236 entries, 0 to 440235\n",
      "Data columns (total 15 columns):\n",
      " #   Column        Non-Null Count   Dtype  \n",
      "---  ------        --------------   -----  \n",
      " 0   year          440236 non-null  int64  \n",
      " 1   make          432193 non-null  object \n",
      " 2   model         432113 non-null  object \n",
      " 3   trim          431899 non-null  object \n",
      " 4   body          429843 non-null  object \n",
      " 5   transmission  388775 non-null  object \n",
      " 6   vin           440236 non-null  object \n",
      " 7   state         440236 non-null  object \n",
      " 8   condition     430831 non-null  float64\n",
      " 9   odometer      440167 non-null  float64\n",
      " 10  color         439650 non-null  object \n",
      " 11  interior      439650 non-null  object \n",
      " 12  seller        440236 non-null  object \n",
      " 13  sellingprice  440236 non-null  int64  \n",
      " 14  saledate      440236 non-null  object \n",
      "dtypes: float64(2), int64(2), object(11)\n",
      "memory usage: 50.4+ MB\n",
      "\n",
      "\n",
      "Очевидных строк-дубликатов в датасете: 0\n",
      "\n",
      "Пропусков в датасете: year                0\n",
      "make             8043\n",
      "model            8123\n",
      "trim             8337\n",
      "body            10393\n",
      "transmission    51461\n",
      "vin                 0\n",
      "state               0\n",
      "condition        9405\n",
      "odometer           69\n",
      "color             586\n",
      "interior          586\n",
      "seller              0\n",
      "sellingprice        0\n",
      "saledate            0\n",
      "dtype: int64\n"
     ]
    }
   ],
   "source": [
    "eda(data_train)"
   ]
  },
  {
   "cell_type": "code",
   "execution_count": 10,
   "id": "8c1bc694-cf41-43d0-a5b8-d84f510faeea",
   "metadata": {},
   "outputs": [
    {
     "data": {
      "text/html": [
       "<div>\n",
       "<style scoped>\n",
       "    .dataframe tbody tr th:only-of-type {\n",
       "        vertical-align: middle;\n",
       "    }\n",
       "\n",
       "    .dataframe tbody tr th {\n",
       "        vertical-align: top;\n",
       "    }\n",
       "\n",
       "    .dataframe thead th {\n",
       "        text-align: right;\n",
       "    }\n",
       "</style>\n",
       "<table border=\"1\" class=\"dataframe\">\n",
       "  <thead>\n",
       "    <tr style=\"text-align: right;\">\n",
       "      <th></th>\n",
       "      <th>year</th>\n",
       "      <th>make</th>\n",
       "      <th>model</th>\n",
       "      <th>trim</th>\n",
       "      <th>body</th>\n",
       "      <th>transmission</th>\n",
       "      <th>vin</th>\n",
       "      <th>state</th>\n",
       "      <th>condition</th>\n",
       "      <th>odometer</th>\n",
       "      <th>color</th>\n",
       "      <th>interior</th>\n",
       "      <th>seller</th>\n",
       "      <th>saledate</th>\n",
       "    </tr>\n",
       "  </thead>\n",
       "  <tbody>\n",
       "    <tr>\n",
       "      <th>67501</th>\n",
       "      <td>2010</td>\n",
       "      <td>Ford</td>\n",
       "      <td>F-250 Super Duty</td>\n",
       "      <td>XLT</td>\n",
       "      <td>crew cab</td>\n",
       "      <td>automatic</td>\n",
       "      <td>1ftsw2by1aea15987</td>\n",
       "      <td>mi</td>\n",
       "      <td>2.9</td>\n",
       "      <td>74331.0</td>\n",
       "      <td>green</td>\n",
       "      <td>gray</td>\n",
       "      <td>automobiles paille inc</td>\n",
       "      <td>Thu Jun 11 2015 02:30:00 GMT-0700 (PDT)</td>\n",
       "    </tr>\n",
       "    <tr>\n",
       "      <th>62053</th>\n",
       "      <td>2012</td>\n",
       "      <td>Toyota</td>\n",
       "      <td>Tundra</td>\n",
       "      <td>Tundra FFV</td>\n",
       "      <td>CrewMax Cab</td>\n",
       "      <td>automatic</td>\n",
       "      <td>5tfdw5f17cx213066</td>\n",
       "      <td>oh</td>\n",
       "      <td>3.6</td>\n",
       "      <td>31822.0</td>\n",
       "      <td>white</td>\n",
       "      <td>gray</td>\n",
       "      <td>wells fargo dealer services</td>\n",
       "      <td>Tue Jan 13 2015 12:00:00 GMT-0800 (PST)</td>\n",
       "    </tr>\n",
       "    <tr>\n",
       "      <th>62846</th>\n",
       "      <td>2013</td>\n",
       "      <td>Ford</td>\n",
       "      <td>Explorer</td>\n",
       "      <td>XLT</td>\n",
       "      <td>SUV</td>\n",
       "      <td>automatic</td>\n",
       "      <td>1fm5k7d85dgc29016</td>\n",
       "      <td>tn</td>\n",
       "      <td>4.7</td>\n",
       "      <td>23331.0</td>\n",
       "      <td>—</td>\n",
       "      <td>black</td>\n",
       "      <td>ford motor credit company,llc</td>\n",
       "      <td>Thu Feb 19 2015 03:00:00 GMT-0800 (PST)</td>\n",
       "    </tr>\n",
       "    <tr>\n",
       "      <th>32852</th>\n",
       "      <td>2011</td>\n",
       "      <td>Nissan</td>\n",
       "      <td>Armada</td>\n",
       "      <td>Platinum</td>\n",
       "      <td>SUV</td>\n",
       "      <td>automatic</td>\n",
       "      <td>5n1aa0ne2bn621697</td>\n",
       "      <td>pa</td>\n",
       "      <td>4.5</td>\n",
       "      <td>30462.0</td>\n",
       "      <td>gray</td>\n",
       "      <td>black</td>\n",
       "      <td>nissan-infiniti lt</td>\n",
       "      <td>Fri Jan 16 2015 01:00:00 GMT-0800 (PST)</td>\n",
       "    </tr>\n",
       "    <tr>\n",
       "      <th>78482</th>\n",
       "      <td>2012</td>\n",
       "      <td>Ford</td>\n",
       "      <td>Taurus</td>\n",
       "      <td>SEL</td>\n",
       "      <td>Sedan</td>\n",
       "      <td>automatic</td>\n",
       "      <td>1fahp2ew4cg129450</td>\n",
       "      <td>fl</td>\n",
       "      <td>4.7</td>\n",
       "      <td>28882.0</td>\n",
       "      <td>—</td>\n",
       "      <td>gray</td>\n",
       "      <td>ford motor credit company,llc</td>\n",
       "      <td>Wed Jan 07 2015 10:00:00 GMT-0800 (PST)</td>\n",
       "    </tr>\n",
       "    <tr>\n",
       "      <th>58063</th>\n",
       "      <td>2012</td>\n",
       "      <td>Nissan</td>\n",
       "      <td>Rogue</td>\n",
       "      <td>S</td>\n",
       "      <td>suv</td>\n",
       "      <td>automatic</td>\n",
       "      <td>jn8as5mv4cw354157</td>\n",
       "      <td>fl</td>\n",
       "      <td>4.4</td>\n",
       "      <td>21389.0</td>\n",
       "      <td>white</td>\n",
       "      <td>gray</td>\n",
       "      <td>nissan-infiniti lt</td>\n",
       "      <td>Tue Jun 16 2015 02:30:00 GMT-0700 (PDT)</td>\n",
       "    </tr>\n",
       "    <tr>\n",
       "      <th>110025</th>\n",
       "      <td>2008</td>\n",
       "      <td>Chevrolet</td>\n",
       "      <td>Malibu</td>\n",
       "      <td>Fleet</td>\n",
       "      <td>sedan</td>\n",
       "      <td>automatic</td>\n",
       "      <td>1g1zg57n98f189637</td>\n",
       "      <td>il</td>\n",
       "      <td>2.2</td>\n",
       "      <td>135725.0</td>\n",
       "      <td>silver</td>\n",
       "      <td>gray</td>\n",
       "      <td>nationwide acceptance</td>\n",
       "      <td>Thu May 28 2015 07:00:00 GMT-0700 (PDT)</td>\n",
       "    </tr>\n",
       "    <tr>\n",
       "      <th>62442</th>\n",
       "      <td>2011</td>\n",
       "      <td>Nissan</td>\n",
       "      <td>Rogue</td>\n",
       "      <td>SV</td>\n",
       "      <td>SUV</td>\n",
       "      <td>automatic</td>\n",
       "      <td>jn8as5mv6bw311857</td>\n",
       "      <td>fl</td>\n",
       "      <td>4.6</td>\n",
       "      <td>35492.0</td>\n",
       "      <td>gray</td>\n",
       "      <td>black</td>\n",
       "      <td>nissan-infiniti lt</td>\n",
       "      <td>Wed Feb 04 2015 01:00:00 GMT-0800 (PST)</td>\n",
       "    </tr>\n",
       "    <tr>\n",
       "      <th>60727</th>\n",
       "      <td>1996</td>\n",
       "      <td>BMW</td>\n",
       "      <td>Z3</td>\n",
       "      <td>1.9</td>\n",
       "      <td>Convertible</td>\n",
       "      <td>manual</td>\n",
       "      <td>4usch7327tlb67564</td>\n",
       "      <td>ga</td>\n",
       "      <td>3.0</td>\n",
       "      <td>35782.0</td>\n",
       "      <td>red</td>\n",
       "      <td>black</td>\n",
       "      <td>wells fargo dealer services</td>\n",
       "      <td>Thu Mar 05 2015 02:00:00 GMT-0800 (PST)</td>\n",
       "    </tr>\n",
       "    <tr>\n",
       "      <th>55435</th>\n",
       "      <td>2009</td>\n",
       "      <td>Nissan</td>\n",
       "      <td>Rogue</td>\n",
       "      <td>SL</td>\n",
       "      <td>SUV</td>\n",
       "      <td>automatic</td>\n",
       "      <td>jn8as58t79w327035</td>\n",
       "      <td>fl</td>\n",
       "      <td>2.5</td>\n",
       "      <td>125880.0</td>\n",
       "      <td>gray</td>\n",
       "      <td>gray</td>\n",
       "      <td>westfall auto sales</td>\n",
       "      <td>Tue Feb 03 2015 08:00:00 GMT-0800 (PST)</td>\n",
       "    </tr>\n",
       "  </tbody>\n",
       "</table>\n",
       "</div>"
      ],
      "text/plain": [
       "        year       make             model        trim         body  \\\n",
       "67501   2010       Ford  F-250 Super Duty         XLT     crew cab   \n",
       "62053   2012     Toyota            Tundra  Tundra FFV  CrewMax Cab   \n",
       "62846   2013       Ford          Explorer         XLT          SUV   \n",
       "32852   2011     Nissan            Armada    Platinum          SUV   \n",
       "78482   2012       Ford            Taurus         SEL        Sedan   \n",
       "58063   2012     Nissan             Rogue           S          suv   \n",
       "110025  2008  Chevrolet            Malibu       Fleet        sedan   \n",
       "62442   2011     Nissan             Rogue          SV          SUV   \n",
       "60727   1996        BMW                Z3         1.9  Convertible   \n",
       "55435   2009     Nissan             Rogue          SL          SUV   \n",
       "\n",
       "       transmission                vin state  condition  odometer   color  \\\n",
       "67501     automatic  1ftsw2by1aea15987    mi        2.9   74331.0   green   \n",
       "62053     automatic  5tfdw5f17cx213066    oh        3.6   31822.0   white   \n",
       "62846     automatic  1fm5k7d85dgc29016    tn        4.7   23331.0       —   \n",
       "32852     automatic  5n1aa0ne2bn621697    pa        4.5   30462.0    gray   \n",
       "78482     automatic  1fahp2ew4cg129450    fl        4.7   28882.0       —   \n",
       "58063     automatic  jn8as5mv4cw354157    fl        4.4   21389.0   white   \n",
       "110025    automatic  1g1zg57n98f189637    il        2.2  135725.0  silver   \n",
       "62442     automatic  jn8as5mv6bw311857    fl        4.6   35492.0    gray   \n",
       "60727        manual  4usch7327tlb67564    ga        3.0   35782.0     red   \n",
       "55435     automatic  jn8as58t79w327035    fl        2.5  125880.0    gray   \n",
       "\n",
       "       interior                         seller  \\\n",
       "67501      gray         automobiles paille inc   \n",
       "62053      gray    wells fargo dealer services   \n",
       "62846     black  ford motor credit company,llc   \n",
       "32852     black             nissan-infiniti lt   \n",
       "78482      gray  ford motor credit company,llc   \n",
       "58063      gray             nissan-infiniti lt   \n",
       "110025     gray          nationwide acceptance   \n",
       "62442     black             nissan-infiniti lt   \n",
       "60727     black    wells fargo dealer services   \n",
       "55435      gray            westfall auto sales   \n",
       "\n",
       "                                       saledate  \n",
       "67501   Thu Jun 11 2015 02:30:00 GMT-0700 (PDT)  \n",
       "62053   Tue Jan 13 2015 12:00:00 GMT-0800 (PST)  \n",
       "62846   Thu Feb 19 2015 03:00:00 GMT-0800 (PST)  \n",
       "32852   Fri Jan 16 2015 01:00:00 GMT-0800 (PST)  \n",
       "78482   Wed Jan 07 2015 10:00:00 GMT-0800 (PST)  \n",
       "58063   Tue Jun 16 2015 02:30:00 GMT-0700 (PDT)  \n",
       "110025  Thu May 28 2015 07:00:00 GMT-0700 (PDT)  \n",
       "62442   Wed Feb 04 2015 01:00:00 GMT-0800 (PST)  \n",
       "60727   Thu Mar 05 2015 02:00:00 GMT-0800 (PST)  \n",
       "55435   Tue Feb 03 2015 08:00:00 GMT-0800 (PST)  "
      ]
     },
     "execution_count": 10,
     "metadata": {},
     "output_type": "execute_result"
    }
   ],
   "source": [
    "data_test.sample(10, random_state=RS)"
   ]
  },
  {
   "cell_type": "code",
   "execution_count": 11,
   "id": "cee87329-c5a2-42bc-9f62-785cbd02785f",
   "metadata": {},
   "outputs": [
    {
     "name": "stdout",
     "output_type": "stream",
     "text": [
      "<class 'pandas.core.frame.DataFrame'>\n",
      "RangeIndex: 110058 entries, 0 to 110057\n",
      "Data columns (total 14 columns):\n",
      " #   Column        Non-Null Count   Dtype  \n",
      "---  ------        --------------   -----  \n",
      " 0   year          110058 non-null  int64  \n",
      " 1   make          107997 non-null  object \n",
      " 2   model         107979 non-null  object \n",
      " 3   trim          107944 non-null  object \n",
      " 4   body          107464 non-null  object \n",
      " 5   transmission  97047 non-null   object \n",
      " 6   vin           110058 non-null  object \n",
      " 7   state         110058 non-null  object \n",
      " 8   condition     107679 non-null  float64\n",
      " 9   odometer      110039 non-null  float64\n",
      " 10  color         109900 non-null  object \n",
      " 11  interior      109900 non-null  object \n",
      " 12  seller        110058 non-null  object \n",
      " 13  saledate      110058 non-null  object \n",
      "dtypes: float64(2), int64(1), object(11)\n",
      "memory usage: 11.8+ MB\n",
      "\n",
      "\n",
      "Очевидных строк-дубликатов в датасете: 0\n",
      "\n",
      "Пропусков в датасете: year                0\n",
      "make             2061\n",
      "model            2079\n",
      "trim             2114\n",
      "body             2594\n",
      "transmission    13011\n",
      "vin                 0\n",
      "state               0\n",
      "condition        2379\n",
      "odometer           19\n",
      "color             158\n",
      "interior          158\n",
      "seller              0\n",
      "saledate            0\n",
      "dtype: int64\n"
     ]
    }
   ],
   "source": [
    "eda(data_test)"
   ]
  },
  {
   "cell_type": "markdown",
   "id": "0503f5ae-2233-4be1-9c39-681968289f7e",
   "metadata": {},
   "source": [
    "**Выводы:**\n",
    "<br>Сразу видим достаточное большое количество пропусков в данных. Также в некоторых столбцах нужно будет изменить тип данных, чтобы либо вытащить данные и создать новые признаки, либо просто оптимизировать. Также нужно будет проверить данные на очевидные и неочевидные дубликаты, которых, вероятнее всего, окажется немало."
   ]
  },
  {
   "cell_type": "markdown",
   "id": "7a095185",
   "metadata": {
    "tags": []
   },
   "source": [
    "# Предобработка данных"
   ]
  },
  {
   "cell_type": "markdown",
   "id": "caa18930",
   "metadata": {},
   "source": [
    "## Дубликаты"
   ]
  },
  {
   "cell_type": "markdown",
   "id": "c99c311a",
   "metadata": {},
   "source": [
    "Для начала поработаем с регистром в категориальных столбцах, чтобы избавиться от неочевидных дубликатов. Также избавимся от лишних пробелов. Будем обрабатывать сразу оба датасета"
   ]
  },
  {
   "cell_type": "code",
   "execution_count": 12,
   "id": "4fbe132a",
   "metadata": {},
   "outputs": [],
   "source": [
    "ds_list = [data_train, data_test]"
   ]
  },
  {
   "cell_type": "markdown",
   "id": "c4fbe89e",
   "metadata": {},
   "source": [
    "### Дубликаты регистра и лишних пробелов"
   ]
  },
  {
   "cell_type": "markdown",
   "id": "719785ec",
   "metadata": {},
   "source": [
    "После первого прогона удалил те столбцы, где операция не дала никаких изменений"
   ]
  },
  {
   "cell_type": "code",
   "execution_count": 13,
   "id": "1f3f4f21",
   "metadata": {},
   "outputs": [
    {
     "name": "stdout",
     "output_type": "stream",
     "text": [
      "Уникальных значений в столбце make ДО обработки: 92\n",
      "Уникальных значений в столбце make ПОСЛЕ обработки: 62\n",
      "\n",
      "\n",
      "Уникальных значений в столбце model ДО обработки: 959\n",
      "Уникальных значений в столбце model ПОСЛЕ обработки: 839\n",
      "\n",
      "\n",
      "Уникальных значений в столбце trim ДО обработки: 1922\n",
      "Уникальных значений в столбце trim ПОСЛЕ обработки: 1840\n",
      "\n",
      "\n",
      "Уникальных значений в столбце body ДО обработки: 85\n",
      "Уникальных значений в столбце body ПОСЛЕ обработки: 45\n",
      "\n",
      "\n",
      "Уникальных значений в столбце make ДО обработки: 85\n",
      "Уникальных значений в столбце make ПОСЛЕ обработки: 58\n",
      "\n",
      "\n",
      "Уникальных значений в столбце model ДО обработки: 824\n",
      "Уникальных значений в столбце model ПОСЛЕ обработки: 746\n",
      "\n",
      "\n",
      "Уникальных значений в столбце trim ДО обработки: 1496\n",
      "Уникальных значений в столбце trim ПОСЛЕ обработки: 1448\n",
      "\n",
      "\n",
      "Уникальных значений в столбце body ДО обработки: 77\n",
      "Уникальных значений в столбце body ПОСЛЕ обработки: 42\n",
      "\n",
      "\n"
     ]
    }
   ],
   "source": [
    "for data in ds_list:\n",
    "    for column in ['make', 'model', 'trim', 'body']:\n",
    "        print(f\"Уникальных значений в столбце {column} ДО обработки: {data[column].nunique()}\")\n",
    "        data[column] = data[column].str.strip()\n",
    "        data[column] = data[column].str.lower()\n",
    "        print(f\"Уникальных значений в столбце {column} ПОСЛЕ обработки: {data[column].nunique()}\")\n",
    "        print()\n",
    "        print()"
   ]
  },
  {
   "cell_type": "markdown",
   "id": "73b80078-2b69-42d0-a139-75c4675b1ae9",
   "metadata": {},
   "source": [
    "### Неочевидные дубликаты в body"
   ]
  },
  {
   "cell_type": "code",
   "execution_count": 14,
   "id": "c50cede2-8bd9-4169-b8aa-af7ccb90e944",
   "metadata": {
    "tags": []
   },
   "outputs": [
    {
     "data": {
      "text/plain": [
       "array(['access cab', 'beetle convertible', 'cab plus', 'cab plus 4',\n",
       "       'club cab', 'convertible', 'coupe', 'crew cab', 'crewmax cab',\n",
       "       'cts coupe', 'cts wagon', 'cts-v coupe', 'cts-v wagon',\n",
       "       'double cab', 'e-series van', 'elantra coupe', 'extended cab',\n",
       "       'g convertible', 'g coupe', 'g sedan', 'g37 convertible',\n",
       "       'g37 coupe', 'genesis coupe', 'granturismo convertible',\n",
       "       'hatchback', 'king cab', 'koup', 'mega cab', 'minivan',\n",
       "       'promaster cargo van', 'q60 convertible', 'q60 coupe', 'quad cab',\n",
       "       'ram van', 'regular cab', 'regular-cab', 'sedan', 'supercab',\n",
       "       'supercrew', 'suv', 'transit van', 'tsx sport wagon', 'van',\n",
       "       'wagon', 'xtracab', nan], dtype=object)"
      ]
     },
     "execution_count": 14,
     "metadata": {},
     "output_type": "execute_result"
    }
   ],
   "source": [
    "data_train['body'].sort_values().unique()"
   ]
  },
  {
   "cell_type": "markdown",
   "id": "1ffe8aee-89ef-42ca-b74c-04db20905cff",
   "metadata": {},
   "source": [
    "Тут не находим ничего интересного, заменим 1 лишнее значение и пойдём дальше"
   ]
  },
  {
   "cell_type": "code",
   "execution_count": 15,
   "id": "ede45b1d-c5f5-405d-8773-22ea7dea4571",
   "metadata": {
    "tags": []
   },
   "outputs": [],
   "source": [
    "data_train['body'].replace('koup', 'coupe', inplace=True)\n",
    "data_test['body'].replace('koup', 'coupe', inplace=True)"
   ]
  },
  {
   "cell_type": "markdown",
   "id": "294553ae",
   "metadata": {
    "tags": []
   },
   "source": [
    "## Пропуски"
   ]
  },
  {
   "cell_type": "code",
   "execution_count": 16,
   "id": "e6ed4938-d03c-40f5-8a78-3a935be59a16",
   "metadata": {
    "tags": []
   },
   "outputs": [
    {
     "data": {
      "text/plain": [
       "year                0\n",
       "make             8043\n",
       "model            8123\n",
       "trim             8337\n",
       "body            10393\n",
       "transmission    51461\n",
       "vin                 0\n",
       "state               0\n",
       "condition        9405\n",
       "odometer           69\n",
       "color             586\n",
       "interior          586\n",
       "seller              0\n",
       "sellingprice        0\n",
       "saledate            0\n",
       "dtype: int64"
      ]
     },
     "execution_count": 16,
     "metadata": {},
     "output_type": "execute_result"
    }
   ],
   "source": [
    "data_train.isna().sum()"
   ]
  },
  {
   "cell_type": "markdown",
   "id": "438e0a85-301e-44de-9073-1c73d3f28adb",
   "metadata": {},
   "source": [
    "Видим \n",
    "\n",
    "Пропуски в color не так страшны, поскольку вряд ли влияют на цену хоть как-то значительно, а с transmission придётся исправлять ситуацию."
   ]
  },
  {
   "cell_type": "markdown",
   "id": "7dae2f37-18a2-45fb-9d8b-e7f43910005d",
   "metadata": {
    "tags": []
   },
   "source": [
    "### Пропуски в color"
   ]
  },
  {
   "cell_type": "code",
   "execution_count": 17,
   "id": "6a6ca35c-fa64-4e3a-afdb-597f72bce5a4",
   "metadata": {
    "tags": []
   },
   "outputs": [
    {
     "name": "stdout",
     "output_type": "stream",
     "text": [
      "Всего пропусков в color в data_test 5106\n",
      "\n"
     ]
    },
    {
     "data": {
      "text/plain": [
       "'Всего пропусков в color в data_train 20106'"
      ]
     },
     "execution_count": 17,
     "metadata": {},
     "output_type": "execute_result"
    }
   ],
   "source": [
    "nan_color_train = len(data_train.query('color == \"—\"'))\n",
    "nan_color_test = len(data_test.query('color == \"—\"'))\n",
    "\n",
    "print(f\"Всего пропусков в color в data_test {nan_color_test + data_test['color'].isna().sum()}\")\n",
    "print()\n",
    "f\"Всего пропусков в color в data_train {nan_color_train + data_train['color'].isna().sum()}\""
   ]
  },
  {
   "cell_type": "code",
   "execution_count": 18,
   "id": "baed4fac-51b5-4126-9187-5655914b12ec",
   "metadata": {
    "tags": []
   },
   "outputs": [],
   "source": [
    "#Замена -\n",
    "data_train['color'] = data_train['color'].replace('—', 'unknown')\n",
    "data_test['color'] = data_test['color'].replace('—', 'unknown')\n",
    "#Заполнение пустых ячеек\n",
    "data_train['color'].fillna('unknown', inplace=True)\n",
    "data_test['color'].fillna('unknown', inplace=True)"
   ]
  },
  {
   "cell_type": "code",
   "execution_count": 19,
   "id": "df02e6a7-5192-4cb7-a405-27b1f8b0b3ca",
   "metadata": {
    "tags": []
   },
   "outputs": [
    {
     "data": {
      "text/plain": [
       "'Пропусков в train:0, в test: 0'"
      ]
     },
     "execution_count": 19,
     "metadata": {},
     "output_type": "execute_result"
    }
   ],
   "source": [
    "f\"Пропусков в train:{data_train['color'].isna().sum()}, в test: {data_test['color'].isna().sum()}\""
   ]
  },
  {
   "cell_type": "markdown",
   "id": "f816b07b-cb94-4344-9d4d-0cea577d7920",
   "metadata": {},
   "source": [
    "### Пропуски в make"
   ]
  },
  {
   "cell_type": "markdown",
   "id": "92d4a615-0978-4b25-adcd-d86faacabbcd",
   "metadata": {},
   "source": [
    "Поскольку библиотека вносит очень много новых вариаций брендов, часть с обработкой дубликатов в столбце перенесём сюда"
   ]
  },
  {
   "cell_type": "markdown",
   "id": "c6ce78aa-585a-42f5-bd87-f4fcc987ff6e",
   "metadata": {},
   "source": [
    "**Data_train**"
   ]
  },
  {
   "cell_type": "code",
   "execution_count": 20,
   "id": "eac52804-334c-4045-af96-a65482641681",
   "metadata": {
    "tags": []
   },
   "outputs": [
    {
     "name": "stdout",
     "output_type": "stream",
     "text": [
      "Пропусков в data_train, столбце make после обработки: 0\n"
     ]
    }
   ],
   "source": [
    "data_train.loc[data_train['make'].isna(), 'make'] = data_train.loc[data_train['make'].isna(), 'vin'].map(lambda x: Vin(x).manufacturer)\n",
    "data_train['make'] = data_train.make.str.lower()\n",
    "print(f\"Пропусков в data_train, столбце make после обработки: {data_train['make'].isna().sum()}\")"
   ]
  },
  {
   "cell_type": "markdown",
   "id": "eb91db10-1244-4f48-bb8f-651e80267f84",
   "metadata": {},
   "source": [
    "**Data_ test**"
   ]
  },
  {
   "cell_type": "code",
   "execution_count": 21,
   "id": "0219e19b-fe79-413c-8306-f70816376fd6",
   "metadata": {
    "tags": []
   },
   "outputs": [
    {
     "name": "stdout",
     "output_type": "stream",
     "text": [
      "Пропусков в data_test, столбце make после обработки: 0\n"
     ]
    }
   ],
   "source": [
    "data_test.loc[data_test['make'].isna(), 'make'] = data_test.loc[data_test['make'].isna(), 'vin'].map(lambda x: Vin(x).manufacturer)\n",
    "data_test['make'] = data_test.make.str.lower()\n",
    "print(f\"Пропусков в data_test, столбце make после обработки: {data_test['make'].isna().sum()}\")"
   ]
  },
  {
   "cell_type": "markdown",
   "id": "5dacff4c-3fbf-4989-b39a-334862ea6191",
   "metadata": {},
   "source": [
    "### Дубликаты в make"
   ]
  },
  {
   "cell_type": "markdown",
   "id": "a5ac66da-2457-40f1-81db-a9fb1408b545",
   "metadata": {},
   "source": [
    "Создадим словарь, с помощью которого будем заменять неявыные дубликаты"
   ]
  },
  {
   "cell_type": "code",
   "execution_count": 22,
   "id": "ef4d0cef",
   "metadata": {},
   "outputs": [],
   "source": [
    "make_replacements = {\n",
    "    'am' : 'aston martin',\n",
    "    'bmw m' : 'bmw',\n",
    "    'chevrolet canada' : 'chevrolet',\n",
    "    'chevrolet mexico' : 'chevrolet',\n",
    "    'chevrolet usa' : 'chevrolet',\n",
    "    'chrysler canada' : 'chrysler',\n",
    "    'dodge tk' : 'dodge',\n",
    "    'dodge canada' : 'dodge',\n",
    "    'dodge mexico' : 'dodge',\n",
    "    'ford truck' : 'ford',\n",
    "    'gmc truck' : 'gmc',\n",
    "    'ford tk' : 'ford',\n",
    "    'hyundai tk' : 'hyundai',\n",
    "    'landrover' : 'land rover',\n",
    "    'mazda tk' : 'mazda',\n",
    "    'mercedes-b' : 'mercedes-benz',\n",
    "    'mercedes' : 'mercedes-benz',\n",
    "    'mercedes-benz (sprinter)' : 'mercedes-benz',\n",
    "    'porsche car' : 'porsche',\n",
    "    'porsche suv' : 'porsche',\n",
    "    'vw' : 'volkswagen',\n",
    "    'volkswagen commercial vehicles' : 'volkswagen'\n",
    "}\n",
    "\n",
    "for data in ds_list:\n",
    "    data['make'].replace(make_replacements, inplace=True)\n",
    "    \n",
    "#Проверяем изменения\n",
    "#data_test['make'].sort_values().unique()\n",
    "#data_train['make'].sort_values().unique()"
   ]
  },
  {
   "cell_type": "markdown",
   "id": "dccce854-af02-409d-9a55-458efb281c73",
   "metadata": {},
   "source": [
    "### Пропуски в model"
   ]
  },
  {
   "cell_type": "markdown",
   "id": "23b48681-3dc7-4834-86ea-efc7ec619601",
   "metadata": {},
   "source": [
    "Пропуски будем заполнять с помощью библиотеки pyvin. Поскольку работает она крайне медленно (3 итерации в секунду в лучшем случае), то результат подбора буду сохранять в файл и перезаписывать переменные, а процесс подбора закомментирую"
   ]
  },
  {
   "cell_type": "code",
   "execution_count": 23,
   "id": "d3b3ddbc-cf33-42b7-8f63-95d64a7b9139",
   "metadata": {
    "tags": []
   },
   "outputs": [],
   "source": [
    "#Создадим функцию для получения модели авто из vin ( Anatoly Ashulin <3 )\n",
    "def model_parsing(x):\n",
    "    try:\n",
    "        return VIN(x).Model\n",
    "    except:\n",
    "        return np.nan"
   ]
  },
  {
   "cell_type": "markdown",
   "id": "4b7970c4-8e00-4f21-99e4-614e40059498",
   "metadata": {},
   "source": [
    "**Data train**"
   ]
  },
  {
   "cell_type": "code",
   "execution_count": 24,
   "id": "a01d8e3b-795f-4723-9fc1-5d19866832a1",
   "metadata": {
    "tags": []
   },
   "outputs": [],
   "source": [
    "#data_train['vin'] = data_train.vin.str.upper()\n",
    "#data_train.loc[data_train['model'].isna(), 'model'] = data_train.loc[data_train['model'].isna(), 'vin'].progress_apply(model_parsing)\n",
    "#data_train.to_csv(r'C:\\Users\\kotof\\Documents\\YandexPracticum\\workshop-one\\datasets\\data_train_preprocessed_v1')"
   ]
  },
  {
   "cell_type": "code",
   "execution_count": 25,
   "id": "70f9016d-f016-425c-85f1-7dd81e871737",
   "metadata": {
    "tags": []
   },
   "outputs": [],
   "source": [
    "#Перезапишем data_train вариантом с уже заполненными пропусками\n",
    "data_train = pd.read_csv('./datasets/data_train_preprocessed_v1.csv')"
   ]
  },
  {
   "cell_type": "markdown",
   "id": "3d4d716a-4ce5-4c32-9ed1-fdb087a4dda2",
   "metadata": {},
   "source": [
    "Остаётся 57 пропусков, которые мы спокойно можем заполнить."
   ]
  },
  {
   "cell_type": "code",
   "execution_count": 26,
   "id": "b7514b51-2e14-4614-b6d2-b98952818f68",
   "metadata": {
    "tags": []
   },
   "outputs": [],
   "source": [
    "data_train['model'].fillna('unknown', inplace=True)"
   ]
  },
  {
   "cell_type": "markdown",
   "id": "34df0983-858e-4277-92e3-c4090f78ed1e",
   "metadata": {},
   "source": [
    "**Data test**"
   ]
  },
  {
   "cell_type": "code",
   "execution_count": 27,
   "id": "a5c01b73-a158-4241-b647-d314c4883e60",
   "metadata": {
    "tags": []
   },
   "outputs": [],
   "source": [
    "#data_test['vin'] = data_test.vin.str.upper()\n",
    "#data_test.loc[data_test['model'].isna(), 'model'] = data_test.loc[data_test['model'].isna(), 'vin'].progress_apply(model_parsing)\n",
    "#data_test.to_csv(r'C:\\Users\\kotof\\Docum ents\\YandexPracticum\\workshop-one\\datasets\\data_test_preprocessed_v1.csv')"
   ]
  },
  {
   "cell_type": "markdown",
   "id": "a0d58cf4-15d2-48c1-a72a-312c392e6857",
   "metadata": {},
   "source": [
    "Аналогично заполняем оставшиеся пропуски (15 штук). Все пропуски model обработаны"
   ]
  },
  {
   "cell_type": "code",
   "execution_count": 28,
   "id": "e582f6ef-dae0-453a-b07c-9422bc87290b",
   "metadata": {
    "tags": []
   },
   "outputs": [],
   "source": [
    "data_test = pd.read_csv('./datasets/data_test_preprocessed_v1.csv')"
   ]
  },
  {
   "cell_type": "code",
   "execution_count": 29,
   "id": "2636429e-d2a1-4daf-bd6a-c8e0fbe2c320",
   "metadata": {
    "tags": []
   },
   "outputs": [],
   "source": [
    "data_test['model'].fillna('unknown', inplace=True)"
   ]
  },
  {
   "cell_type": "markdown",
   "id": "d4bfe6e1-ccf7-4378-ba53-535133b0d8ef",
   "metadata": {},
   "source": [
    "Забыл указать index=false в to_csv, поэтому удалим лишние столбцы"
   ]
  },
  {
   "cell_type": "code",
   "execution_count": 30,
   "id": "4cb2f02f-1a57-4fa5-87c4-b246fc92aa71",
   "metadata": {
    "tags": []
   },
   "outputs": [],
   "source": [
    "data_train.drop(columns=['Unnamed: 0'], inplace=True)\n",
    "data_test.drop(columns=['Unnamed: 0'], inplace=True)"
   ]
  },
  {
   "cell_type": "code",
   "execution_count": 31,
   "id": "bd4dbd25-f9da-48a8-b148-98602f908a20",
   "metadata": {
    "tags": []
   },
   "outputs": [],
   "source": [
    "data_train.drop(columns=['manufacturer_vininfo'], inplace=True)"
   ]
  },
  {
   "cell_type": "markdown",
   "id": "127eddcc-3a29-447b-b8bc-dc236d620054",
   "metadata": {
    "tags": []
   },
   "source": [
    "### Пропуски в interior"
   ]
  },
  {
   "cell_type": "markdown",
   "id": "b9a3e82c-c5c5-4985-9cb7-f884ed874bea",
   "metadata": {},
   "source": [
    "Тут пропусков крайне мало, заполняем их unknown"
   ]
  },
  {
   "cell_type": "code",
   "execution_count": 32,
   "id": "213fcd29-f79c-4860-8155-4e0eb181d9b6",
   "metadata": {
    "tags": []
   },
   "outputs": [],
   "source": [
    "data_train['interior'].fillna('unknown', inplace=True)\n",
    "data_test['interior'].fillna('unknown', inplace=True)"
   ]
  },
  {
   "cell_type": "markdown",
   "id": "425a6bf1-74f9-49c6-b538-f88ceefcbc15",
   "metadata": {},
   "source": [
    "### Пропуски в odometer"
   ]
  },
  {
   "cell_type": "markdown",
   "id": "c4f02a0d-3269-4f3a-9c15-b754f6a2b73c",
   "metadata": {},
   "source": [
    "Опять таки, пропусков крайне мало, заполним их медианным значением"
   ]
  },
  {
   "cell_type": "code",
   "execution_count": 33,
   "id": "b111ef63-95cb-4669-a864-e169af72363f",
   "metadata": {
    "tags": []
   },
   "outputs": [],
   "source": [
    "data_train.loc[data_train['odometer'].isna(), 'odometer'] = data_train['odometer'].median()\n",
    "data_test.loc[data_test['odometer'].isna(), 'odometer'] = data_test['odometer'].median()"
   ]
  },
  {
   "cell_type": "markdown",
   "id": "f63f5bce-5fcf-404b-9151-4bf21b606c07",
   "metadata": {
    "tags": []
   },
   "source": [
    "### Пропуски в trim, body и condition"
   ]
  },
  {
   "cell_type": "markdown",
   "id": "126975bd-5e21-4e96-89f7-b6e9d60acf9f",
   "metadata": {},
   "source": [
    "К сожалению, из vin информацию по этим признакам не получить, а другого способа, кроме как создавать отдельную модель, у нас нет, поэтому заполним их unknown."
   ]
  },
  {
   "cell_type": "code",
   "execution_count": 34,
   "id": "449b8e11-1cb6-4e44-80c5-c35570ea35e3",
   "metadata": {
    "tags": []
   },
   "outputs": [],
   "source": [
    "data_train['trim'].fillna('unknown', inplace=True)\n",
    "data_test['trim'].fillna('unknown', inplace=True)\n",
    "\n",
    "data_train['body'].fillna('unknown', inplace=True)\n",
    "data_test['body'].fillna('unknown', inplace=True)\n",
    "\n",
    "data_train['condition'].fillna('unknown', inplace=True)\n",
    "data_test['condition'].fillna('unknown', inplace=True)"
   ]
  },
  {
   "cell_type": "markdown",
   "id": "479a0a9b-91cd-46cd-a989-696ecc8ea288",
   "metadata": {},
   "source": [
    "### Пропуски в transmission"
   ]
  },
  {
   "cell_type": "markdown",
   "id": "4fa73a5c-e769-42c1-b58a-97cfae6a3d99",
   "metadata": {},
   "source": [
    "Остаётся самый проблемный признак - коробка передач. В нём мы видим более 10% пропусков в обучающем дс, примерно столько же в тестовом. Попробуем найти авто, для которых есть только два варианта записей:\n",
    "manual\\automatic и nan. Так мы отсеем те модели, которые выпускаются только с одной коробкой передач."
   ]
  },
  {
   "cell_type": "code",
   "execution_count": 35,
   "id": "6dfb8ad5-39d7-4ba5-bd44-210c286fb91a",
   "metadata": {},
   "outputs": [],
   "source": [
    "#%%time\n",
    "#only_automatic_train = []\n",
    "#only_manual_train = []\n",
    "#\n",
    "#only_automatic_test = []\n",
    "#only_manual_test = []\n",
    "#\n",
    "#for data in ds_list:\n",
    "#    for model in data.loc[data['transmission'].isna(), 'model'].unique():\n",
    "#        unique_trs = data.loc[data['model'] == model, 'transmission'].unique()\n",
    "#        if len(unique_trs) == 2:\n",
    "#            if len(data) > 400000:\n",
    "#                if 'automatic' in unique_trs:\n",
    "#                    only_automatic_train.append(model)\n",
    "#                elif 'manual' in unique_trs:\n",
    "#                    only_manual_train.append(model)\n",
    "#            elif len(data) < 150000:\n",
    "#                if 'automatic' in unique_trs:\n",
    "#                    only_automatic_test.append(model)\n",
    "#                elif 'manual' in unique_trs:\n",
    "#                    only_manual_test.append(model)\n",
    "#            \n",
    "#"
   ]
  },
  {
   "cell_type": "code",
   "execution_count": 36,
   "id": "71fafc71-6ae2-4b37-8018-43e8412beace",
   "metadata": {
    "tags": []
   },
   "outputs": [],
   "source": [
    "##Data train\n",
    "#print(f\"Пропусков до обработки: {data_train['transmission'].isna().sum()}\")\n",
    "#automatic_indexes_train = data_train.query('transmission.isna() and model in @only_automatic_train').index\n",
    "#data_train.loc[automatic_indexes_train, 'transmission'] = 'automatic'\n",
    "#\n",
    "#manual_indexes_train = data_train.query('transmission.isna() and model in @only_manual_train').index\n",
    "#data_train.loc[manual_indexes_train, 'transmission'] = 'manual'\n",
    "#print(f\"Пропусков после обработки: {data_train['transmission'].isna().sum()}\")"
   ]
  },
  {
   "cell_type": "code",
   "execution_count": 37,
   "id": "6205d16b-7944-4af5-99f1-fdbcc18f2d2c",
   "metadata": {
    "tags": []
   },
   "outputs": [],
   "source": [
    "##Data test\n",
    "#print(f\"Пропусков до обработки: {data_test['transmission'].isna().sum()}\")\n",
    "#automatic_indexes_test = data_test.query('transmission.isna() and model in @only_automatic_test').index\n",
    "#data_test.loc[automatic_indexes_test, 'transmission'] = 'automatic'\n",
    "#\n",
    "#manual_indexes_test = data_test.query('transmission.isna() and model in @only_manual_test').index\n",
    "#data_test.loc[manual_indexes_test, 'transmission'] = 'manual'\n",
    "#print(f\"Пропусков после обработки: {data_test['transmission'].isna().sum()}\")"
   ]
  },
  {
   "cell_type": "markdown",
   "id": "b7461843-651c-4f7c-9909-0b8ce47b6328",
   "metadata": {},
   "source": [
    "**Итоги:**\n",
    "<br>Итого получилось удалить по 30% пропусков. Остальное заполним unknown. Поскольку выполнение цикла занимает 15 секунд, сохраним результат в csv, и перезапишем переменные."
   ]
  },
  {
   "cell_type": "code",
   "execution_count": 38,
   "id": "e074c490-1097-4e69-817e-1cd889b7c5a2",
   "metadata": {
    "tags": []
   },
   "outputs": [],
   "source": [
    "#data_train.to_csv(r'C:\\Users\\kotof\\Documents\\YandexPracticum\\workshop-one\\datasets\\data_train_preprocessed_v2.csv', index=False)\n",
    "#data_test.to_csv(r'C:\\Users\\kotof\\Documents\\YandexPracticum\\workshop-one\\datasets\\data_test_preprocessed_v2.csv', index=False)#"
   ]
  },
  {
   "cell_type": "code",
   "execution_count": 39,
   "id": "583589a0-d901-4171-a193-1dfca1983125",
   "metadata": {
    "tags": []
   },
   "outputs": [],
   "source": [
    "data_train = pd.read_csv('./datasets/data_train_preprocessed_v2.csv')\n",
    "data_test = pd.read_csv('./datasets/data_test_preprocessed_v2.csv')"
   ]
  },
  {
   "cell_type": "code",
   "execution_count": 40,
   "id": "8e65e02a-17b6-4aef-ab0e-430bfabcdceb",
   "metadata": {
    "tags": []
   },
   "outputs": [],
   "source": [
    "data_train['transmission'].fillna('unknown', inplace=True)\n",
    "data_test['transmission'].fillna('unknown', inplace=True)"
   ]
  },
  {
   "cell_type": "markdown",
   "id": "7bac4f3b-b19a-474a-aad7-811426d8d5c8",
   "metadata": {},
   "source": [
    "## Тип данных"
   ]
  },
  {
   "cell_type": "markdown",
   "id": "b40c8b8d-82db-405c-83a9-cccfca29a7cc",
   "metadata": {},
   "source": [
    "### saledate"
   ]
  },
  {
   "cell_type": "code",
   "execution_count": 41,
   "id": "55ebf7de-25f8-49e5-9b44-17e9f80c0a1a",
   "metadata": {
    "tags": []
   },
   "outputs": [],
   "source": [
    "#Data train\n",
    "data_train['saledate'] = data_train['saledate'].apply(lambda x: x[:15])\n",
    "data_train['saledate'] = pd.to_datetime(data_train['saledate'], format='%a %b %d %Y')\n",
    "#Data test\n",
    "data_test['saledate'] = data_test['saledate'].apply(lambda x: x[:15])\n",
    "data_test['saledate'] = pd.to_datetime(data_test['saledate'], format='%a %b %d %Y')"
   ]
  },
  {
   "cell_type": "code",
   "execution_count": 42,
   "id": "e051993d-5dac-4c92-ad8b-dff3adcaa70f",
   "metadata": {
    "tags": []
   },
   "outputs": [
    {
     "data": {
      "text/html": [
       "<div>\n",
       "<style scoped>\n",
       "    .dataframe tbody tr th:only-of-type {\n",
       "        vertical-align: middle;\n",
       "    }\n",
       "\n",
       "    .dataframe tbody tr th {\n",
       "        vertical-align: top;\n",
       "    }\n",
       "\n",
       "    .dataframe thead th {\n",
       "        text-align: right;\n",
       "    }\n",
       "</style>\n",
       "<table border=\"1\" class=\"dataframe\">\n",
       "  <thead>\n",
       "    <tr style=\"text-align: right;\">\n",
       "      <th></th>\n",
       "      <th>year</th>\n",
       "      <th>make</th>\n",
       "      <th>model</th>\n",
       "      <th>trim</th>\n",
       "      <th>body</th>\n",
       "      <th>transmission</th>\n",
       "      <th>vin</th>\n",
       "      <th>state</th>\n",
       "      <th>condition</th>\n",
       "      <th>odometer</th>\n",
       "      <th>color</th>\n",
       "      <th>interior</th>\n",
       "      <th>seller</th>\n",
       "      <th>sellingprice</th>\n",
       "      <th>saledate</th>\n",
       "    </tr>\n",
       "  </thead>\n",
       "  <tbody>\n",
       "    <tr>\n",
       "      <th>0</th>\n",
       "      <td>2011</td>\n",
       "      <td>ford</td>\n",
       "      <td>edge</td>\n",
       "      <td>sel</td>\n",
       "      <td>suv</td>\n",
       "      <td>automatic</td>\n",
       "      <td>2FMDK3JC4BBA41556</td>\n",
       "      <td>md</td>\n",
       "      <td>4.2</td>\n",
       "      <td>111041.0</td>\n",
       "      <td>black</td>\n",
       "      <td>black</td>\n",
       "      <td>santander consumer</td>\n",
       "      <td>12500</td>\n",
       "      <td>2015-06-02</td>\n",
       "    </tr>\n",
       "    <tr>\n",
       "      <th>1</th>\n",
       "      <td>2014</td>\n",
       "      <td>ford</td>\n",
       "      <td>fusion</td>\n",
       "      <td>se</td>\n",
       "      <td>sedan</td>\n",
       "      <td>automatic</td>\n",
       "      <td>3FA6P0H75ER208976</td>\n",
       "      <td>mo</td>\n",
       "      <td>3.5</td>\n",
       "      <td>31034.0</td>\n",
       "      <td>black</td>\n",
       "      <td>black</td>\n",
       "      <td>ars/avis budget group</td>\n",
       "      <td>14500</td>\n",
       "      <td>2015-02-25</td>\n",
       "    </tr>\n",
       "    <tr>\n",
       "      <th>2</th>\n",
       "      <td>2012</td>\n",
       "      <td>nissan</td>\n",
       "      <td>sentra</td>\n",
       "      <td>2.0 sl</td>\n",
       "      <td>sedan</td>\n",
       "      <td>automatic</td>\n",
       "      <td>3N1AB6AP4CL698412</td>\n",
       "      <td>nj</td>\n",
       "      <td>2.2</td>\n",
       "      <td>35619.0</td>\n",
       "      <td>black</td>\n",
       "      <td>black</td>\n",
       "      <td>nissan-infiniti lt</td>\n",
       "      <td>9100</td>\n",
       "      <td>2015-06-10</td>\n",
       "    </tr>\n",
       "    <tr>\n",
       "      <th>3</th>\n",
       "      <td>2003</td>\n",
       "      <td>hummer</td>\n",
       "      <td>h2</td>\n",
       "      <td>base</td>\n",
       "      <td>suv</td>\n",
       "      <td>automatic</td>\n",
       "      <td>5GRGN23U93H101360</td>\n",
       "      <td>tx</td>\n",
       "      <td>2.8</td>\n",
       "      <td>131301.0</td>\n",
       "      <td>gold</td>\n",
       "      <td>beige</td>\n",
       "      <td>wichita falls ford lin inc</td>\n",
       "      <td>13300</td>\n",
       "      <td>2015-06-17</td>\n",
       "    </tr>\n",
       "    <tr>\n",
       "      <th>4</th>\n",
       "      <td>2007</td>\n",
       "      <td>ford</td>\n",
       "      <td>fusion</td>\n",
       "      <td>sel</td>\n",
       "      <td>sedan</td>\n",
       "      <td>automatic</td>\n",
       "      <td>3FAHP08Z17R268380</td>\n",
       "      <td>md</td>\n",
       "      <td>2.0</td>\n",
       "      <td>127709.0</td>\n",
       "      <td>black</td>\n",
       "      <td>black</td>\n",
       "      <td>purple heart</td>\n",
       "      <td>1300</td>\n",
       "      <td>2015-02-03</td>\n",
       "    </tr>\n",
       "  </tbody>\n",
       "</table>\n",
       "</div>"
      ],
      "text/plain": [
       "   year    make   model    trim   body transmission                vin state  \\\n",
       "0  2011    ford    edge     sel    suv    automatic  2FMDK3JC4BBA41556    md   \n",
       "1  2014    ford  fusion      se  sedan    automatic  3FA6P0H75ER208976    mo   \n",
       "2  2012  nissan  sentra  2.0 sl  sedan    automatic  3N1AB6AP4CL698412    nj   \n",
       "3  2003  hummer      h2    base    suv    automatic  5GRGN23U93H101360    tx   \n",
       "4  2007    ford  fusion     sel  sedan    automatic  3FAHP08Z17R268380    md   \n",
       "\n",
       "  condition  odometer  color interior                      seller  \\\n",
       "0       4.2  111041.0  black    black          santander consumer   \n",
       "1       3.5   31034.0  black    black       ars/avis budget group   \n",
       "2       2.2   35619.0  black    black          nissan-infiniti lt   \n",
       "3       2.8  131301.0   gold    beige  wichita falls ford lin inc   \n",
       "4       2.0  127709.0  black    black                purple heart   \n",
       "\n",
       "   sellingprice   saledate  \n",
       "0         12500 2015-06-02  \n",
       "1         14500 2015-02-25  \n",
       "2          9100 2015-06-10  \n",
       "3         13300 2015-06-17  \n",
       "4          1300 2015-02-03  "
      ]
     },
     "execution_count": 42,
     "metadata": {},
     "output_type": "execute_result"
    }
   ],
   "source": [
    "data_train.head()"
   ]
  },
  {
   "cell_type": "markdown",
   "id": "e2015049-c4ad-4bb3-b476-93b89c49b8e8",
   "metadata": {},
   "source": [
    "### odometer"
   ]
  },
  {
   "cell_type": "code",
   "execution_count": 43,
   "id": "4dc7a201-97cd-4df3-b0f4-82285dfac6e5",
   "metadata": {
    "tags": []
   },
   "outputs": [],
   "source": [
    "data_train['odometer'] = data_train['odometer'].astype('int32')\n",
    "data_test['odometer'] = data_test['odometer'].astype('int32')"
   ]
  },
  {
   "cell_type": "markdown",
   "id": "6e31adbd-7c31-4348-8788-16acf2658690",
   "metadata": {},
   "source": [
    "### selling_price"
   ]
  },
  {
   "cell_type": "code",
   "execution_count": 44,
   "id": "b44dcd3e-eea5-4cdf-95ce-3d8693feee0a",
   "metadata": {
    "tags": []
   },
   "outputs": [],
   "source": [
    "data_train['sellingprice'] = data_train['sellingprice'].astype('int32')"
   ]
  },
  {
   "cell_type": "markdown",
   "id": "1872ed9e-7ee8-4432-85d7-d33755ea16f7",
   "metadata": {},
   "source": [
    "## Переименование столбцов"
   ]
  },
  {
   "cell_type": "code",
   "execution_count": 45,
   "id": "918e546b-7632-4e95-9fee-2623d7b30fa3",
   "metadata": {
    "tags": []
   },
   "outputs": [],
   "source": [
    "%%capture\n",
    "data_train.rename(columns={\"make\": \"manufacturer\", \"sellingprice\": \"selling_price\", \"saledate\": \"sale_date\", \"year\" :\"manufacturing_year\"}, inplace=True)\n",
    "data_test.rename(columns={\"make\": \"manufacturer\", \"saledate\": \"sale_date\", \"year\" :\"manufacturing_year\"}, inplace=True)"
   ]
  },
  {
   "cell_type": "code",
   "execution_count": 46,
   "id": "4e429124-1391-470a-95e6-6e68ec63dfb5",
   "metadata": {
    "tags": []
   },
   "outputs": [
    {
     "data": {
      "text/html": [
       "<div>\n",
       "<style scoped>\n",
       "    .dataframe tbody tr th:only-of-type {\n",
       "        vertical-align: middle;\n",
       "    }\n",
       "\n",
       "    .dataframe tbody tr th {\n",
       "        vertical-align: top;\n",
       "    }\n",
       "\n",
       "    .dataframe thead th {\n",
       "        text-align: right;\n",
       "    }\n",
       "</style>\n",
       "<table border=\"1\" class=\"dataframe\">\n",
       "  <thead>\n",
       "    <tr style=\"text-align: right;\">\n",
       "      <th></th>\n",
       "      <th>manufacturing_year</th>\n",
       "      <th>manufacturer</th>\n",
       "      <th>model</th>\n",
       "      <th>trim</th>\n",
       "      <th>body</th>\n",
       "      <th>transmission</th>\n",
       "      <th>vin</th>\n",
       "      <th>state</th>\n",
       "      <th>condition</th>\n",
       "      <th>odometer</th>\n",
       "      <th>color</th>\n",
       "      <th>interior</th>\n",
       "      <th>seller</th>\n",
       "      <th>selling_price</th>\n",
       "      <th>sale_date</th>\n",
       "    </tr>\n",
       "  </thead>\n",
       "  <tbody>\n",
       "    <tr>\n",
       "      <th>0</th>\n",
       "      <td>2011</td>\n",
       "      <td>ford</td>\n",
       "      <td>edge</td>\n",
       "      <td>sel</td>\n",
       "      <td>suv</td>\n",
       "      <td>automatic</td>\n",
       "      <td>2FMDK3JC4BBA41556</td>\n",
       "      <td>md</td>\n",
       "      <td>4.2</td>\n",
       "      <td>111041</td>\n",
       "      <td>black</td>\n",
       "      <td>black</td>\n",
       "      <td>santander consumer</td>\n",
       "      <td>12500</td>\n",
       "      <td>2015-06-02</td>\n",
       "    </tr>\n",
       "    <tr>\n",
       "      <th>1</th>\n",
       "      <td>2014</td>\n",
       "      <td>ford</td>\n",
       "      <td>fusion</td>\n",
       "      <td>se</td>\n",
       "      <td>sedan</td>\n",
       "      <td>automatic</td>\n",
       "      <td>3FA6P0H75ER208976</td>\n",
       "      <td>mo</td>\n",
       "      <td>3.5</td>\n",
       "      <td>31034</td>\n",
       "      <td>black</td>\n",
       "      <td>black</td>\n",
       "      <td>ars/avis budget group</td>\n",
       "      <td>14500</td>\n",
       "      <td>2015-02-25</td>\n",
       "    </tr>\n",
       "    <tr>\n",
       "      <th>2</th>\n",
       "      <td>2012</td>\n",
       "      <td>nissan</td>\n",
       "      <td>sentra</td>\n",
       "      <td>2.0 sl</td>\n",
       "      <td>sedan</td>\n",
       "      <td>automatic</td>\n",
       "      <td>3N1AB6AP4CL698412</td>\n",
       "      <td>nj</td>\n",
       "      <td>2.2</td>\n",
       "      <td>35619</td>\n",
       "      <td>black</td>\n",
       "      <td>black</td>\n",
       "      <td>nissan-infiniti lt</td>\n",
       "      <td>9100</td>\n",
       "      <td>2015-06-10</td>\n",
       "    </tr>\n",
       "    <tr>\n",
       "      <th>3</th>\n",
       "      <td>2003</td>\n",
       "      <td>hummer</td>\n",
       "      <td>h2</td>\n",
       "      <td>base</td>\n",
       "      <td>suv</td>\n",
       "      <td>automatic</td>\n",
       "      <td>5GRGN23U93H101360</td>\n",
       "      <td>tx</td>\n",
       "      <td>2.8</td>\n",
       "      <td>131301</td>\n",
       "      <td>gold</td>\n",
       "      <td>beige</td>\n",
       "      <td>wichita falls ford lin inc</td>\n",
       "      <td>13300</td>\n",
       "      <td>2015-06-17</td>\n",
       "    </tr>\n",
       "    <tr>\n",
       "      <th>4</th>\n",
       "      <td>2007</td>\n",
       "      <td>ford</td>\n",
       "      <td>fusion</td>\n",
       "      <td>sel</td>\n",
       "      <td>sedan</td>\n",
       "      <td>automatic</td>\n",
       "      <td>3FAHP08Z17R268380</td>\n",
       "      <td>md</td>\n",
       "      <td>2.0</td>\n",
       "      <td>127709</td>\n",
       "      <td>black</td>\n",
       "      <td>black</td>\n",
       "      <td>purple heart</td>\n",
       "      <td>1300</td>\n",
       "      <td>2015-02-03</td>\n",
       "    </tr>\n",
       "  </tbody>\n",
       "</table>\n",
       "</div>"
      ],
      "text/plain": [
       "   manufacturing_year manufacturer   model    trim   body transmission  \\\n",
       "0                2011         ford    edge     sel    suv    automatic   \n",
       "1                2014         ford  fusion      se  sedan    automatic   \n",
       "2                2012       nissan  sentra  2.0 sl  sedan    automatic   \n",
       "3                2003       hummer      h2    base    suv    automatic   \n",
       "4                2007         ford  fusion     sel  sedan    automatic   \n",
       "\n",
       "                 vin state condition  odometer  color interior  \\\n",
       "0  2FMDK3JC4BBA41556    md       4.2    111041  black    black   \n",
       "1  3FA6P0H75ER208976    mo       3.5     31034  black    black   \n",
       "2  3N1AB6AP4CL698412    nj       2.2     35619  black    black   \n",
       "3  5GRGN23U93H101360    tx       2.8    131301   gold    beige   \n",
       "4  3FAHP08Z17R268380    md       2.0    127709  black    black   \n",
       "\n",
       "                       seller  selling_price  sale_date  \n",
       "0          santander consumer          12500 2015-06-02  \n",
       "1       ars/avis budget group          14500 2015-02-25  \n",
       "2          nissan-infiniti lt           9100 2015-06-10  \n",
       "3  wichita falls ford lin inc          13300 2015-06-17  \n",
       "4                purple heart           1300 2015-02-03  "
      ]
     },
     "execution_count": 46,
     "metadata": {},
     "output_type": "execute_result"
    }
   ],
   "source": [
    "data_train.head()"
   ]
  },
  {
   "cell_type": "markdown",
   "id": "20fdceef-d49c-4ac5-8386-cb973bef0a69",
   "metadata": {},
   "source": [
    "## Создание новых столбцов"
   ]
  },
  {
   "cell_type": "code",
   "execution_count": 47,
   "id": "7bd69487-0bc6-4e1d-a0ca-b97439005fbf",
   "metadata": {
    "tags": []
   },
   "outputs": [],
   "source": [
    "data_train['sale_year'] = pd.DatetimeIndex(data_train['sale_date']).year\n",
    "data_train['sale_month'] = pd.DatetimeIndex(data_train['sale_date']).month\n",
    "data_train['age'] = data_train['sale_year'] - data_train['manufacturing_year']\n",
    "\n",
    "data_test['sale_year'] = pd.DatetimeIndex(data_test['sale_date']).year\n",
    "data_test['sale_month'] = pd.DatetimeIndex(data_test['sale_date']).month\n",
    "data_test['age'] = data_test['sale_year'] - data_test['manufacturing_year']"
   ]
  },
  {
   "cell_type": "code",
   "execution_count": 48,
   "id": "28bdfb64-18d6-40dc-8186-7c62d22eaca8",
   "metadata": {},
   "outputs": [
    {
     "data": {
      "text/html": [
       "<div>\n",
       "<style scoped>\n",
       "    .dataframe tbody tr th:only-of-type {\n",
       "        vertical-align: middle;\n",
       "    }\n",
       "\n",
       "    .dataframe tbody tr th {\n",
       "        vertical-align: top;\n",
       "    }\n",
       "\n",
       "    .dataframe thead th {\n",
       "        text-align: right;\n",
       "    }\n",
       "</style>\n",
       "<table border=\"1\" class=\"dataframe\">\n",
       "  <thead>\n",
       "    <tr style=\"text-align: right;\">\n",
       "      <th></th>\n",
       "      <th>manufacturing_year</th>\n",
       "      <th>manufacturer</th>\n",
       "      <th>model</th>\n",
       "      <th>trim</th>\n",
       "      <th>body</th>\n",
       "      <th>transmission</th>\n",
       "      <th>vin</th>\n",
       "      <th>state</th>\n",
       "      <th>condition</th>\n",
       "      <th>odometer</th>\n",
       "      <th>color</th>\n",
       "      <th>interior</th>\n",
       "      <th>seller</th>\n",
       "      <th>selling_price</th>\n",
       "      <th>sale_date</th>\n",
       "      <th>sale_year</th>\n",
       "      <th>sale_month</th>\n",
       "      <th>age</th>\n",
       "    </tr>\n",
       "  </thead>\n",
       "  <tbody>\n",
       "    <tr>\n",
       "      <th>0</th>\n",
       "      <td>2011</td>\n",
       "      <td>ford</td>\n",
       "      <td>edge</td>\n",
       "      <td>sel</td>\n",
       "      <td>suv</td>\n",
       "      <td>automatic</td>\n",
       "      <td>2FMDK3JC4BBA41556</td>\n",
       "      <td>md</td>\n",
       "      <td>4.2</td>\n",
       "      <td>111041</td>\n",
       "      <td>black</td>\n",
       "      <td>black</td>\n",
       "      <td>santander consumer</td>\n",
       "      <td>12500</td>\n",
       "      <td>2015-06-02</td>\n",
       "      <td>2015</td>\n",
       "      <td>6</td>\n",
       "      <td>4</td>\n",
       "    </tr>\n",
       "    <tr>\n",
       "      <th>1</th>\n",
       "      <td>2014</td>\n",
       "      <td>ford</td>\n",
       "      <td>fusion</td>\n",
       "      <td>se</td>\n",
       "      <td>sedan</td>\n",
       "      <td>automatic</td>\n",
       "      <td>3FA6P0H75ER208976</td>\n",
       "      <td>mo</td>\n",
       "      <td>3.5</td>\n",
       "      <td>31034</td>\n",
       "      <td>black</td>\n",
       "      <td>black</td>\n",
       "      <td>ars/avis budget group</td>\n",
       "      <td>14500</td>\n",
       "      <td>2015-02-25</td>\n",
       "      <td>2015</td>\n",
       "      <td>2</td>\n",
       "      <td>1</td>\n",
       "    </tr>\n",
       "    <tr>\n",
       "      <th>2</th>\n",
       "      <td>2012</td>\n",
       "      <td>nissan</td>\n",
       "      <td>sentra</td>\n",
       "      <td>2.0 sl</td>\n",
       "      <td>sedan</td>\n",
       "      <td>automatic</td>\n",
       "      <td>3N1AB6AP4CL698412</td>\n",
       "      <td>nj</td>\n",
       "      <td>2.2</td>\n",
       "      <td>35619</td>\n",
       "      <td>black</td>\n",
       "      <td>black</td>\n",
       "      <td>nissan-infiniti lt</td>\n",
       "      <td>9100</td>\n",
       "      <td>2015-06-10</td>\n",
       "      <td>2015</td>\n",
       "      <td>6</td>\n",
       "      <td>3</td>\n",
       "    </tr>\n",
       "    <tr>\n",
       "      <th>3</th>\n",
       "      <td>2003</td>\n",
       "      <td>hummer</td>\n",
       "      <td>h2</td>\n",
       "      <td>base</td>\n",
       "      <td>suv</td>\n",
       "      <td>automatic</td>\n",
       "      <td>5GRGN23U93H101360</td>\n",
       "      <td>tx</td>\n",
       "      <td>2.8</td>\n",
       "      <td>131301</td>\n",
       "      <td>gold</td>\n",
       "      <td>beige</td>\n",
       "      <td>wichita falls ford lin inc</td>\n",
       "      <td>13300</td>\n",
       "      <td>2015-06-17</td>\n",
       "      <td>2015</td>\n",
       "      <td>6</td>\n",
       "      <td>12</td>\n",
       "    </tr>\n",
       "    <tr>\n",
       "      <th>4</th>\n",
       "      <td>2007</td>\n",
       "      <td>ford</td>\n",
       "      <td>fusion</td>\n",
       "      <td>sel</td>\n",
       "      <td>sedan</td>\n",
       "      <td>automatic</td>\n",
       "      <td>3FAHP08Z17R268380</td>\n",
       "      <td>md</td>\n",
       "      <td>2.0</td>\n",
       "      <td>127709</td>\n",
       "      <td>black</td>\n",
       "      <td>black</td>\n",
       "      <td>purple heart</td>\n",
       "      <td>1300</td>\n",
       "      <td>2015-02-03</td>\n",
       "      <td>2015</td>\n",
       "      <td>2</td>\n",
       "      <td>8</td>\n",
       "    </tr>\n",
       "  </tbody>\n",
       "</table>\n",
       "</div>"
      ],
      "text/plain": [
       "   manufacturing_year manufacturer   model    trim   body transmission  \\\n",
       "0                2011         ford    edge     sel    suv    automatic   \n",
       "1                2014         ford  fusion      se  sedan    automatic   \n",
       "2                2012       nissan  sentra  2.0 sl  sedan    automatic   \n",
       "3                2003       hummer      h2    base    suv    automatic   \n",
       "4                2007         ford  fusion     sel  sedan    automatic   \n",
       "\n",
       "                 vin state condition  odometer  color interior  \\\n",
       "0  2FMDK3JC4BBA41556    md       4.2    111041  black    black   \n",
       "1  3FA6P0H75ER208976    mo       3.5     31034  black    black   \n",
       "2  3N1AB6AP4CL698412    nj       2.2     35619  black    black   \n",
       "3  5GRGN23U93H101360    tx       2.8    131301   gold    beige   \n",
       "4  3FAHP08Z17R268380    md       2.0    127709  black    black   \n",
       "\n",
       "                       seller  selling_price  sale_date  sale_year  \\\n",
       "0          santander consumer          12500 2015-06-02       2015   \n",
       "1       ars/avis budget group          14500 2015-02-25       2015   \n",
       "2          nissan-infiniti lt           9100 2015-06-10       2015   \n",
       "3  wichita falls ford lin inc          13300 2015-06-17       2015   \n",
       "4                purple heart           1300 2015-02-03       2015   \n",
       "\n",
       "   sale_month  age  \n",
       "0           6    4  \n",
       "1           2    1  \n",
       "2           6    3  \n",
       "3           6   12  \n",
       "4           2    8  "
      ]
     },
     "execution_count": 48,
     "metadata": {},
     "output_type": "execute_result"
    }
   ],
   "source": [
    "data_train.head()"
   ]
  },
  {
   "cell_type": "code",
   "execution_count": 49,
   "id": "7f339de2-dfa4-428d-adb2-ad33803bde54",
   "metadata": {
    "tags": []
   },
   "outputs": [
    {
     "data": {
      "text/html": [
       "<div>\n",
       "<style scoped>\n",
       "    .dataframe tbody tr th:only-of-type {\n",
       "        vertical-align: middle;\n",
       "    }\n",
       "\n",
       "    .dataframe tbody tr th {\n",
       "        vertical-align: top;\n",
       "    }\n",
       "\n",
       "    .dataframe thead th {\n",
       "        text-align: right;\n",
       "    }\n",
       "</style>\n",
       "<table border=\"1\" class=\"dataframe\">\n",
       "  <thead>\n",
       "    <tr style=\"text-align: right;\">\n",
       "      <th></th>\n",
       "      <th>manufacturing_year</th>\n",
       "      <th>manufacturer</th>\n",
       "      <th>model</th>\n",
       "      <th>trim</th>\n",
       "      <th>body</th>\n",
       "      <th>transmission</th>\n",
       "      <th>vin</th>\n",
       "      <th>state</th>\n",
       "      <th>condition</th>\n",
       "      <th>odometer</th>\n",
       "      <th>color</th>\n",
       "      <th>interior</th>\n",
       "      <th>seller</th>\n",
       "      <th>sale_date</th>\n",
       "      <th>sale_year</th>\n",
       "      <th>sale_month</th>\n",
       "      <th>age</th>\n",
       "    </tr>\n",
       "  </thead>\n",
       "  <tbody>\n",
       "    <tr>\n",
       "      <th>0</th>\n",
       "      <td>2005</td>\n",
       "      <td>cadillac</td>\n",
       "      <td>cts</td>\n",
       "      <td>base</td>\n",
       "      <td>sedan</td>\n",
       "      <td>automatic</td>\n",
       "      <td>1G6DP567450124779</td>\n",
       "      <td>ca</td>\n",
       "      <td>2.7</td>\n",
       "      <td>116970</td>\n",
       "      <td>silver</td>\n",
       "      <td>black</td>\n",
       "      <td>lexus of stevens creek</td>\n",
       "      <td>2015-01-14</td>\n",
       "      <td>2015</td>\n",
       "      <td>1</td>\n",
       "      <td>10</td>\n",
       "    </tr>\n",
       "    <tr>\n",
       "      <th>1</th>\n",
       "      <td>2014</td>\n",
       "      <td>gmc</td>\n",
       "      <td>savana cargo</td>\n",
       "      <td>2500</td>\n",
       "      <td>van</td>\n",
       "      <td>automatic</td>\n",
       "      <td>1GTW7FCA7E1902207</td>\n",
       "      <td>pa</td>\n",
       "      <td>4.4</td>\n",
       "      <td>6286</td>\n",
       "      <td>white</td>\n",
       "      <td>gray</td>\n",
       "      <td>u-haul</td>\n",
       "      <td>2015-02-27</td>\n",
       "      <td>2015</td>\n",
       "      <td>2</td>\n",
       "      <td>1</td>\n",
       "    </tr>\n",
       "    <tr>\n",
       "      <th>2</th>\n",
       "      <td>2013</td>\n",
       "      <td>nissan</td>\n",
       "      <td>murano</td>\n",
       "      <td>s</td>\n",
       "      <td>suv</td>\n",
       "      <td>automatic</td>\n",
       "      <td>JN8AZ1MW6DW303497</td>\n",
       "      <td>oh</td>\n",
       "      <td>4.6</td>\n",
       "      <td>11831</td>\n",
       "      <td>gray</td>\n",
       "      <td>black</td>\n",
       "      <td>nissan-infiniti lt</td>\n",
       "      <td>2015-02-24</td>\n",
       "      <td>2015</td>\n",
       "      <td>2</td>\n",
       "      <td>2</td>\n",
       "    </tr>\n",
       "    <tr>\n",
       "      <th>3</th>\n",
       "      <td>2013</td>\n",
       "      <td>chevrolet</td>\n",
       "      <td>impala</td>\n",
       "      <td>ls fleet</td>\n",
       "      <td>sedan</td>\n",
       "      <td>automatic</td>\n",
       "      <td>2G1WF5E34D1160703</td>\n",
       "      <td>fl</td>\n",
       "      <td>2.3</td>\n",
       "      <td>57105</td>\n",
       "      <td>silver</td>\n",
       "      <td>black</td>\n",
       "      <td>onemain rem/auto club of miami inc dba north dad</td>\n",
       "      <td>2015-03-06</td>\n",
       "      <td>2015</td>\n",
       "      <td>3</td>\n",
       "      <td>2</td>\n",
       "    </tr>\n",
       "    <tr>\n",
       "      <th>4</th>\n",
       "      <td>2013</td>\n",
       "      <td>nissan</td>\n",
       "      <td>titan</td>\n",
       "      <td>sv</td>\n",
       "      <td>crew cab</td>\n",
       "      <td>automatic</td>\n",
       "      <td>1N6AA0EC3DN301209</td>\n",
       "      <td>tn</td>\n",
       "      <td>2.9</td>\n",
       "      <td>31083</td>\n",
       "      <td>black</td>\n",
       "      <td>black</td>\n",
       "      <td>nissan north america inc.</td>\n",
       "      <td>2015-06-03</td>\n",
       "      <td>2015</td>\n",
       "      <td>6</td>\n",
       "      <td>2</td>\n",
       "    </tr>\n",
       "  </tbody>\n",
       "</table>\n",
       "</div>"
      ],
      "text/plain": [
       "   manufacturing_year manufacturer         model      trim      body  \\\n",
       "0                2005     cadillac           cts      base     sedan   \n",
       "1                2014          gmc  savana cargo      2500       van   \n",
       "2                2013       nissan        murano         s       suv   \n",
       "3                2013    chevrolet        impala  ls fleet     sedan   \n",
       "4                2013       nissan         titan        sv  crew cab   \n",
       "\n",
       "  transmission                vin state condition  odometer   color interior  \\\n",
       "0    automatic  1G6DP567450124779    ca       2.7    116970  silver    black   \n",
       "1    automatic  1GTW7FCA7E1902207    pa       4.4      6286   white     gray   \n",
       "2    automatic  JN8AZ1MW6DW303497    oh       4.6     11831    gray    black   \n",
       "3    automatic  2G1WF5E34D1160703    fl       2.3     57105  silver    black   \n",
       "4    automatic  1N6AA0EC3DN301209    tn       2.9     31083   black    black   \n",
       "\n",
       "                                             seller  sale_date  sale_year  \\\n",
       "0                            lexus of stevens creek 2015-01-14       2015   \n",
       "1                                            u-haul 2015-02-27       2015   \n",
       "2                                nissan-infiniti lt 2015-02-24       2015   \n",
       "3  onemain rem/auto club of miami inc dba north dad 2015-03-06       2015   \n",
       "4                         nissan north america inc. 2015-06-03       2015   \n",
       "\n",
       "   sale_month  age  \n",
       "0           1   10  \n",
       "1           2    1  \n",
       "2           2    2  \n",
       "3           3    2  \n",
       "4           6    2  "
      ]
     },
     "execution_count": 49,
     "metadata": {},
     "output_type": "execute_result"
    }
   ],
   "source": [
    "data_test.head()"
   ]
  },
  {
   "cell_type": "markdown",
   "id": "41c0298f-e80d-4cf9-9a70-5b8e0a1bd9c3",
   "metadata": {},
   "source": [
    "## Удалим лишние столбцы"
   ]
  },
  {
   "cell_type": "markdown",
   "id": "68c8d167-5526-41c6-ab27-15d6cdc0218d",
   "metadata": {},
   "source": [
    "По причине неинформативности или дублирования информативности для модели, удалим лишние столбцы из датасетов"
   ]
  },
  {
   "cell_type": "code",
   "execution_count": 50,
   "id": "82bc10a0-1fb5-4aad-bb0b-42d9ad493e3f",
   "metadata": {
    "tags": []
   },
   "outputs": [],
   "source": [
    "data_train.drop(columns=[\n",
    "    'vin', #неинформативен\n",
    "    'sale_date', #дублирует данные за отдельно год и месяц\n",
    "    'manufacturing_year' #можно восстановить из sale_year и age\n",
    "], inplace=True)"
   ]
  },
  {
   "cell_type": "code",
   "execution_count": 51,
   "id": "d24a369e-e981-4941-8164-25cb134dad32",
   "metadata": {
    "tags": []
   },
   "outputs": [],
   "source": [
    "data_test.drop(columns=[\n",
    "    #'vin',\n",
    "    'sale_date',\n",
    "    'manufacturing_year'\n",
    "], inplace=True)"
   ]
  },
  {
   "cell_type": "markdown",
   "id": "4bf2a072-db0f-4fb3-911c-c243db1f850f",
   "metadata": {},
   "source": [
    "## Выбросы\n"
   ]
  },
  {
   "cell_type": "markdown",
   "id": "558e65f6-39f9-4f61-930b-0cbc7b308660",
   "metadata": {},
   "source": [
    "Пройдёмся по количественным признакам, и удалим выбросы\n"
   ]
  },
  {
   "cell_type": "code",
   "execution_count": 52,
   "id": "6b849561-833b-4c45-8b41-1ada21725468",
   "metadata": {
    "tags": []
   },
   "outputs": [],
   "source": [
    "#Функция для удаления выбросов\n",
    "def remove_outliers(data, column):\n",
    "    q1 = data[column].quantile(0.25)\n",
    "    q3 = data[column].quantile(0.75)\n",
    "    iqr = q3-q1\n",
    "    upper = data.loc[data[column] >= (q3 + 1.5 * iqr)].index\n",
    "    lower = data.loc[data[column] <= (q1 - 1.5 * iqr)].index\n",
    "    data.drop(upper, inplace=True)\n",
    "    data.drop(lower, inplace=True)"
   ]
  },
  {
   "cell_type": "code",
   "execution_count": 53,
   "id": "9b003588-aaed-407a-9b1c-53a980d1402f",
   "metadata": {
    "tags": []
   },
   "outputs": [
    {
     "name": "stdout",
     "output_type": "stream",
     "text": [
      "Строк в датасете до удаления выбросов: 440236\n",
      "Строк в датасете после удаления выбросов: 429710\n",
      "\n",
      "Строк в датасете до удаления выбросов: 110058\n",
      "Строк в датасете после удаления выбросов: 107432\n",
      "\n"
     ]
    }
   ],
   "source": [
    "for data in ds_list:\n",
    "    print(f\"Строк в датасете до удаления выбросов: {data.shape[0]}\")\n",
    "    count = 0\n",
    "    while count != data.shape[0]:\n",
    "        count = data.shape[0]\n",
    "        remove_outliers(data, 'odometer')\n",
    "    print(f\"Строк в датасете после удаления выбросов: {data.shape[0]}\")\n",
    "    print()"
   ]
  },
  {
   "cell_type": "markdown",
   "id": "e398178f-3c5d-4ccb-8bc5-4ff5b3109398",
   "metadata": {
    "tags": []
   },
   "source": [
    "# Разработка модели"
   ]
  },
  {
   "cell_type": "markdown",
   "id": "5357dd6c-fb64-4d95-9117-e486eb31d1b7",
   "metadata": {},
   "source": [
    "## Выделяем целевой признак и фичи"
   ]
  },
  {
   "cell_type": "code",
   "execution_count": 54,
   "id": "45d52f0e-5d65-427c-a2cd-6ff6c140a8d0",
   "metadata": {
    "tags": []
   },
   "outputs": [],
   "source": [
    "#Обучающие данные\n",
    "features_train = data_train.drop(columns=['selling_price'])\n",
    "target_train = data_train['selling_price']\n",
    "\n",
    "#Тестовые данные\n",
    "features_test = data_test.drop(columns=['vin'])"
   ]
  },
  {
   "cell_type": "markdown",
   "id": "04384db0-b448-4f6d-b99c-c24de751cd9d",
   "metadata": {
    "tags": []
   },
   "source": [
    "## Масштабируем и кодируем данные"
   ]
  },
  {
   "cell_type": "markdown",
   "id": "0b16fe0b-fce9-4422-8123-4773e8d7a2fc",
   "metadata": {},
   "source": [
    "Учитывая количество уникальных значений в наших столбцах, ohe не подойдёт категорически. Вторым вариантом, приходящим на ум, является OrdinalEncoder, но модель может прочитать в его работе зависимости и закономерности, которых на самом деле нет. Например, порядковая модель 47 будет \"весить\" больше порядковой модели 19, хотя фактически они должны быть равнозначными для модели при прочих равных. Потому, дабы соблюсти баланс между размером датасета и неприданием ложного смысла для модели, выбираем BinaryEncoder"
   ]
  },
  {
   "cell_type": "code",
   "execution_count": 55,
   "id": "792f4d23-2f94-41a7-8f30-3cc842444173",
   "metadata": {
    "tags": []
   },
   "outputs": [],
   "source": [
    "numeric = [*features_train.select_dtypes(include=['int64', 'int32']).columns]\n",
    "scaler = StandardScaler().fit(features_train[numeric])\n",
    "\n",
    "features_train[numeric] = scaler.transform(features_train[numeric])\n",
    "features_test[numeric] = scaler.transform(features_test[numeric])"
   ]
  },
  {
   "cell_type": "code",
   "execution_count": 56,
   "id": "7063daed-a2e9-4807-a353-9c370be65e82",
   "metadata": {
    "tags": []
   },
   "outputs": [],
   "source": [
    "be = ce.BinaryEncoder(handle_unknown='use_encoded_value').fit(features_train)\n",
    "\n",
    "features_train = be.transform(features_train)\n",
    "features_test = be.transform(features_test)"
   ]
  },
  {
   "cell_type": "code",
   "execution_count": 57,
   "id": "0b07b1d8-fc6f-49e9-a441-5628629b4bbd",
   "metadata": {
    "tags": []
   },
   "outputs": [
    {
     "data": {
      "text/html": [
       "<div>\n",
       "<style scoped>\n",
       "    .dataframe tbody tr th:only-of-type {\n",
       "        vertical-align: middle;\n",
       "    }\n",
       "\n",
       "    .dataframe tbody tr th {\n",
       "        vertical-align: top;\n",
       "    }\n",
       "\n",
       "    .dataframe thead th {\n",
       "        text-align: right;\n",
       "    }\n",
       "</style>\n",
       "<table border=\"1\" class=\"dataframe\">\n",
       "  <thead>\n",
       "    <tr style=\"text-align: right;\">\n",
       "      <th></th>\n",
       "      <th>manufacturer_0</th>\n",
       "      <th>manufacturer_1</th>\n",
       "      <th>manufacturer_2</th>\n",
       "      <th>manufacturer_3</th>\n",
       "      <th>manufacturer_4</th>\n",
       "      <th>manufacturer_5</th>\n",
       "      <th>model_0</th>\n",
       "      <th>model_1</th>\n",
       "      <th>model_2</th>\n",
       "      <th>model_3</th>\n",
       "      <th>model_4</th>\n",
       "      <th>model_5</th>\n",
       "      <th>model_6</th>\n",
       "      <th>model_7</th>\n",
       "      <th>model_8</th>\n",
       "      <th>model_9</th>\n",
       "      <th>model_10</th>\n",
       "      <th>trim_0</th>\n",
       "      <th>trim_1</th>\n",
       "      <th>trim_2</th>\n",
       "      <th>trim_3</th>\n",
       "      <th>trim_4</th>\n",
       "      <th>trim_5</th>\n",
       "      <th>trim_6</th>\n",
       "      <th>trim_7</th>\n",
       "      <th>trim_8</th>\n",
       "      <th>trim_9</th>\n",
       "      <th>trim_10</th>\n",
       "      <th>body_0</th>\n",
       "      <th>body_1</th>\n",
       "      <th>body_2</th>\n",
       "      <th>body_3</th>\n",
       "      <th>body_4</th>\n",
       "      <th>body_5</th>\n",
       "      <th>transmission_0</th>\n",
       "      <th>transmission_1</th>\n",
       "      <th>state_0</th>\n",
       "      <th>state_1</th>\n",
       "      <th>state_2</th>\n",
       "      <th>state_3</th>\n",
       "      <th>state_4</th>\n",
       "      <th>state_5</th>\n",
       "      <th>condition_0</th>\n",
       "      <th>condition_1</th>\n",
       "      <th>condition_2</th>\n",
       "      <th>condition_3</th>\n",
       "      <th>condition_4</th>\n",
       "      <th>condition_5</th>\n",
       "      <th>odometer</th>\n",
       "      <th>color_0</th>\n",
       "      <th>color_1</th>\n",
       "      <th>color_2</th>\n",
       "      <th>color_3</th>\n",
       "      <th>color_4</th>\n",
       "      <th>interior_0</th>\n",
       "      <th>interior_1</th>\n",
       "      <th>interior_2</th>\n",
       "      <th>interior_3</th>\n",
       "      <th>interior_4</th>\n",
       "      <th>seller_0</th>\n",
       "      <th>seller_1</th>\n",
       "      <th>seller_2</th>\n",
       "      <th>seller_3</th>\n",
       "      <th>seller_4</th>\n",
       "      <th>seller_5</th>\n",
       "      <th>seller_6</th>\n",
       "      <th>seller_7</th>\n",
       "      <th>seller_8</th>\n",
       "      <th>seller_9</th>\n",
       "      <th>seller_10</th>\n",
       "      <th>seller_11</th>\n",
       "      <th>seller_12</th>\n",
       "      <th>seller_13</th>\n",
       "      <th>sale_year</th>\n",
       "      <th>sale_month</th>\n",
       "      <th>age</th>\n",
       "    </tr>\n",
       "  </thead>\n",
       "  <tbody>\n",
       "    <tr>\n",
       "      <th>0</th>\n",
       "      <td>0</td>\n",
       "      <td>0</td>\n",
       "      <td>0</td>\n",
       "      <td>0</td>\n",
       "      <td>0</td>\n",
       "      <td>1</td>\n",
       "      <td>0</td>\n",
       "      <td>0</td>\n",
       "      <td>0</td>\n",
       "      <td>0</td>\n",
       "      <td>0</td>\n",
       "      <td>0</td>\n",
       "      <td>0</td>\n",
       "      <td>0</td>\n",
       "      <td>0</td>\n",
       "      <td>0</td>\n",
       "      <td>1</td>\n",
       "      <td>0</td>\n",
       "      <td>0</td>\n",
       "      <td>0</td>\n",
       "      <td>0</td>\n",
       "      <td>0</td>\n",
       "      <td>0</td>\n",
       "      <td>0</td>\n",
       "      <td>0</td>\n",
       "      <td>0</td>\n",
       "      <td>0</td>\n",
       "      <td>1</td>\n",
       "      <td>0</td>\n",
       "      <td>0</td>\n",
       "      <td>0</td>\n",
       "      <td>0</td>\n",
       "      <td>0</td>\n",
       "      <td>1</td>\n",
       "      <td>0</td>\n",
       "      <td>1</td>\n",
       "      <td>0</td>\n",
       "      <td>0</td>\n",
       "      <td>0</td>\n",
       "      <td>0</td>\n",
       "      <td>0</td>\n",
       "      <td>1</td>\n",
       "      <td>0</td>\n",
       "      <td>0</td>\n",
       "      <td>0</td>\n",
       "      <td>0</td>\n",
       "      <td>0</td>\n",
       "      <td>1</td>\n",
       "      <td>0.797543</td>\n",
       "      <td>0</td>\n",
       "      <td>0</td>\n",
       "      <td>0</td>\n",
       "      <td>0</td>\n",
       "      <td>1</td>\n",
       "      <td>0</td>\n",
       "      <td>0</td>\n",
       "      <td>0</td>\n",
       "      <td>0</td>\n",
       "      <td>1</td>\n",
       "      <td>0</td>\n",
       "      <td>0</td>\n",
       "      <td>0</td>\n",
       "      <td>0</td>\n",
       "      <td>0</td>\n",
       "      <td>0</td>\n",
       "      <td>0</td>\n",
       "      <td>0</td>\n",
       "      <td>0</td>\n",
       "      <td>0</td>\n",
       "      <td>0</td>\n",
       "      <td>0</td>\n",
       "      <td>0</td>\n",
       "      <td>1</td>\n",
       "      <td>0.328663</td>\n",
       "      <td>0.672419</td>\n",
       "      <td>-0.218090</td>\n",
       "    </tr>\n",
       "    <tr>\n",
       "      <th>1</th>\n",
       "      <td>0</td>\n",
       "      <td>0</td>\n",
       "      <td>0</td>\n",
       "      <td>0</td>\n",
       "      <td>0</td>\n",
       "      <td>1</td>\n",
       "      <td>0</td>\n",
       "      <td>0</td>\n",
       "      <td>0</td>\n",
       "      <td>0</td>\n",
       "      <td>0</td>\n",
       "      <td>0</td>\n",
       "      <td>0</td>\n",
       "      <td>0</td>\n",
       "      <td>0</td>\n",
       "      <td>1</td>\n",
       "      <td>0</td>\n",
       "      <td>0</td>\n",
       "      <td>0</td>\n",
       "      <td>0</td>\n",
       "      <td>0</td>\n",
       "      <td>0</td>\n",
       "      <td>0</td>\n",
       "      <td>0</td>\n",
       "      <td>0</td>\n",
       "      <td>0</td>\n",
       "      <td>1</td>\n",
       "      <td>0</td>\n",
       "      <td>0</td>\n",
       "      <td>0</td>\n",
       "      <td>0</td>\n",
       "      <td>0</td>\n",
       "      <td>1</td>\n",
       "      <td>0</td>\n",
       "      <td>0</td>\n",
       "      <td>1</td>\n",
       "      <td>0</td>\n",
       "      <td>0</td>\n",
       "      <td>0</td>\n",
       "      <td>0</td>\n",
       "      <td>1</td>\n",
       "      <td>0</td>\n",
       "      <td>0</td>\n",
       "      <td>0</td>\n",
       "      <td>0</td>\n",
       "      <td>0</td>\n",
       "      <td>1</td>\n",
       "      <td>0</td>\n",
       "      <td>-0.696844</td>\n",
       "      <td>0</td>\n",
       "      <td>0</td>\n",
       "      <td>0</td>\n",
       "      <td>0</td>\n",
       "      <td>1</td>\n",
       "      <td>0</td>\n",
       "      <td>0</td>\n",
       "      <td>0</td>\n",
       "      <td>0</td>\n",
       "      <td>1</td>\n",
       "      <td>0</td>\n",
       "      <td>0</td>\n",
       "      <td>0</td>\n",
       "      <td>0</td>\n",
       "      <td>0</td>\n",
       "      <td>0</td>\n",
       "      <td>0</td>\n",
       "      <td>0</td>\n",
       "      <td>0</td>\n",
       "      <td>0</td>\n",
       "      <td>0</td>\n",
       "      <td>0</td>\n",
       "      <td>1</td>\n",
       "      <td>0</td>\n",
       "      <td>0.328663</td>\n",
       "      <td>-0.560021</td>\n",
       "      <td>-0.976742</td>\n",
       "    </tr>\n",
       "    <tr>\n",
       "      <th>2</th>\n",
       "      <td>0</td>\n",
       "      <td>0</td>\n",
       "      <td>0</td>\n",
       "      <td>0</td>\n",
       "      <td>1</td>\n",
       "      <td>0</td>\n",
       "      <td>0</td>\n",
       "      <td>0</td>\n",
       "      <td>0</td>\n",
       "      <td>0</td>\n",
       "      <td>0</td>\n",
       "      <td>0</td>\n",
       "      <td>0</td>\n",
       "      <td>0</td>\n",
       "      <td>0</td>\n",
       "      <td>1</td>\n",
       "      <td>1</td>\n",
       "      <td>0</td>\n",
       "      <td>0</td>\n",
       "      <td>0</td>\n",
       "      <td>0</td>\n",
       "      <td>0</td>\n",
       "      <td>0</td>\n",
       "      <td>0</td>\n",
       "      <td>0</td>\n",
       "      <td>0</td>\n",
       "      <td>1</td>\n",
       "      <td>1</td>\n",
       "      <td>0</td>\n",
       "      <td>0</td>\n",
       "      <td>0</td>\n",
       "      <td>0</td>\n",
       "      <td>1</td>\n",
       "      <td>0</td>\n",
       "      <td>0</td>\n",
       "      <td>1</td>\n",
       "      <td>0</td>\n",
       "      <td>0</td>\n",
       "      <td>0</td>\n",
       "      <td>0</td>\n",
       "      <td>1</td>\n",
       "      <td>1</td>\n",
       "      <td>0</td>\n",
       "      <td>0</td>\n",
       "      <td>0</td>\n",
       "      <td>0</td>\n",
       "      <td>1</td>\n",
       "      <td>1</td>\n",
       "      <td>-0.611205</td>\n",
       "      <td>0</td>\n",
       "      <td>0</td>\n",
       "      <td>0</td>\n",
       "      <td>0</td>\n",
       "      <td>1</td>\n",
       "      <td>0</td>\n",
       "      <td>0</td>\n",
       "      <td>0</td>\n",
       "      <td>0</td>\n",
       "      <td>1</td>\n",
       "      <td>0</td>\n",
       "      <td>0</td>\n",
       "      <td>0</td>\n",
       "      <td>0</td>\n",
       "      <td>0</td>\n",
       "      <td>0</td>\n",
       "      <td>0</td>\n",
       "      <td>0</td>\n",
       "      <td>0</td>\n",
       "      <td>0</td>\n",
       "      <td>0</td>\n",
       "      <td>0</td>\n",
       "      <td>1</td>\n",
       "      <td>1</td>\n",
       "      <td>0.328663</td>\n",
       "      <td>0.672419</td>\n",
       "      <td>-0.470974</td>\n",
       "    </tr>\n",
       "    <tr>\n",
       "      <th>3</th>\n",
       "      <td>0</td>\n",
       "      <td>0</td>\n",
       "      <td>0</td>\n",
       "      <td>0</td>\n",
       "      <td>1</td>\n",
       "      <td>1</td>\n",
       "      <td>0</td>\n",
       "      <td>0</td>\n",
       "      <td>0</td>\n",
       "      <td>0</td>\n",
       "      <td>0</td>\n",
       "      <td>0</td>\n",
       "      <td>0</td>\n",
       "      <td>0</td>\n",
       "      <td>1</td>\n",
       "      <td>0</td>\n",
       "      <td>0</td>\n",
       "      <td>0</td>\n",
       "      <td>0</td>\n",
       "      <td>0</td>\n",
       "      <td>0</td>\n",
       "      <td>0</td>\n",
       "      <td>0</td>\n",
       "      <td>0</td>\n",
       "      <td>0</td>\n",
       "      <td>1</td>\n",
       "      <td>0</td>\n",
       "      <td>0</td>\n",
       "      <td>0</td>\n",
       "      <td>0</td>\n",
       "      <td>0</td>\n",
       "      <td>0</td>\n",
       "      <td>0</td>\n",
       "      <td>1</td>\n",
       "      <td>0</td>\n",
       "      <td>1</td>\n",
       "      <td>0</td>\n",
       "      <td>0</td>\n",
       "      <td>0</td>\n",
       "      <td>1</td>\n",
       "      <td>0</td>\n",
       "      <td>0</td>\n",
       "      <td>0</td>\n",
       "      <td>0</td>\n",
       "      <td>0</td>\n",
       "      <td>1</td>\n",
       "      <td>0</td>\n",
       "      <td>0</td>\n",
       "      <td>1.175963</td>\n",
       "      <td>0</td>\n",
       "      <td>0</td>\n",
       "      <td>0</td>\n",
       "      <td>1</td>\n",
       "      <td>0</td>\n",
       "      <td>0</td>\n",
       "      <td>0</td>\n",
       "      <td>0</td>\n",
       "      <td>1</td>\n",
       "      <td>0</td>\n",
       "      <td>0</td>\n",
       "      <td>0</td>\n",
       "      <td>0</td>\n",
       "      <td>0</td>\n",
       "      <td>0</td>\n",
       "      <td>0</td>\n",
       "      <td>0</td>\n",
       "      <td>0</td>\n",
       "      <td>0</td>\n",
       "      <td>0</td>\n",
       "      <td>0</td>\n",
       "      <td>1</td>\n",
       "      <td>0</td>\n",
       "      <td>0</td>\n",
       "      <td>0.328663</td>\n",
       "      <td>0.672419</td>\n",
       "      <td>1.804982</td>\n",
       "    </tr>\n",
       "    <tr>\n",
       "      <th>4</th>\n",
       "      <td>0</td>\n",
       "      <td>0</td>\n",
       "      <td>0</td>\n",
       "      <td>0</td>\n",
       "      <td>0</td>\n",
       "      <td>1</td>\n",
       "      <td>0</td>\n",
       "      <td>0</td>\n",
       "      <td>0</td>\n",
       "      <td>0</td>\n",
       "      <td>0</td>\n",
       "      <td>0</td>\n",
       "      <td>0</td>\n",
       "      <td>0</td>\n",
       "      <td>0</td>\n",
       "      <td>1</td>\n",
       "      <td>0</td>\n",
       "      <td>0</td>\n",
       "      <td>0</td>\n",
       "      <td>0</td>\n",
       "      <td>0</td>\n",
       "      <td>0</td>\n",
       "      <td>0</td>\n",
       "      <td>0</td>\n",
       "      <td>0</td>\n",
       "      <td>0</td>\n",
       "      <td>0</td>\n",
       "      <td>1</td>\n",
       "      <td>0</td>\n",
       "      <td>0</td>\n",
       "      <td>0</td>\n",
       "      <td>0</td>\n",
       "      <td>1</td>\n",
       "      <td>0</td>\n",
       "      <td>0</td>\n",
       "      <td>1</td>\n",
       "      <td>0</td>\n",
       "      <td>0</td>\n",
       "      <td>0</td>\n",
       "      <td>0</td>\n",
       "      <td>0</td>\n",
       "      <td>1</td>\n",
       "      <td>0</td>\n",
       "      <td>0</td>\n",
       "      <td>0</td>\n",
       "      <td>1</td>\n",
       "      <td>0</td>\n",
       "      <td>1</td>\n",
       "      <td>1.108871</td>\n",
       "      <td>0</td>\n",
       "      <td>0</td>\n",
       "      <td>0</td>\n",
       "      <td>0</td>\n",
       "      <td>1</td>\n",
       "      <td>0</td>\n",
       "      <td>0</td>\n",
       "      <td>0</td>\n",
       "      <td>0</td>\n",
       "      <td>1</td>\n",
       "      <td>0</td>\n",
       "      <td>0</td>\n",
       "      <td>0</td>\n",
       "      <td>0</td>\n",
       "      <td>0</td>\n",
       "      <td>0</td>\n",
       "      <td>0</td>\n",
       "      <td>0</td>\n",
       "      <td>0</td>\n",
       "      <td>0</td>\n",
       "      <td>0</td>\n",
       "      <td>1</td>\n",
       "      <td>0</td>\n",
       "      <td>1</td>\n",
       "      <td>0.328663</td>\n",
       "      <td>-0.560021</td>\n",
       "      <td>0.793446</td>\n",
       "    </tr>\n",
       "  </tbody>\n",
       "</table>\n",
       "</div>"
      ],
      "text/plain": [
       "   manufacturer_0  manufacturer_1  manufacturer_2  manufacturer_3  \\\n",
       "0               0               0               0               0   \n",
       "1               0               0               0               0   \n",
       "2               0               0               0               0   \n",
       "3               0               0               0               0   \n",
       "4               0               0               0               0   \n",
       "\n",
       "   manufacturer_4  manufacturer_5  model_0  model_1  model_2  model_3  \\\n",
       "0               0               1        0        0        0        0   \n",
       "1               0               1        0        0        0        0   \n",
       "2               1               0        0        0        0        0   \n",
       "3               1               1        0        0        0        0   \n",
       "4               0               1        0        0        0        0   \n",
       "\n",
       "   model_4  model_5  model_6  model_7  model_8  model_9  model_10  trim_0  \\\n",
       "0        0        0        0        0        0        0         1       0   \n",
       "1        0        0        0        0        0        1         0       0   \n",
       "2        0        0        0        0        0        1         1       0   \n",
       "3        0        0        0        0        1        0         0       0   \n",
       "4        0        0        0        0        0        1         0       0   \n",
       "\n",
       "   trim_1  trim_2  trim_3  trim_4  trim_5  trim_6  trim_7  trim_8  trim_9  \\\n",
       "0       0       0       0       0       0       0       0       0       0   \n",
       "1       0       0       0       0       0       0       0       0       1   \n",
       "2       0       0       0       0       0       0       0       0       1   \n",
       "3       0       0       0       0       0       0       0       1       0   \n",
       "4       0       0       0       0       0       0       0       0       0   \n",
       "\n",
       "   trim_10  body_0  body_1  body_2  body_3  body_4  body_5  transmission_0  \\\n",
       "0        1       0       0       0       0       0       1               0   \n",
       "1        0       0       0       0       0       1       0               0   \n",
       "2        1       0       0       0       0       1       0               0   \n",
       "3        0       0       0       0       0       0       1               0   \n",
       "4        1       0       0       0       0       1       0               0   \n",
       "\n",
       "   transmission_1  state_0  state_1  state_2  state_3  state_4  state_5  \\\n",
       "0               1        0        0        0        0        0        1   \n",
       "1               1        0        0        0        0        1        0   \n",
       "2               1        0        0        0        0        1        1   \n",
       "3               1        0        0        0        1        0        0   \n",
       "4               1        0        0        0        0        0        1   \n",
       "\n",
       "   condition_0  condition_1  condition_2  condition_3  condition_4  \\\n",
       "0            0            0            0            0            0   \n",
       "1            0            0            0            0            1   \n",
       "2            0            0            0            0            1   \n",
       "3            0            0            0            1            0   \n",
       "4            0            0            0            1            0   \n",
       "\n",
       "   condition_5  odometer  color_0  color_1  color_2  color_3  color_4  \\\n",
       "0            1  0.797543        0        0        0        0        1   \n",
       "1            0 -0.696844        0        0        0        0        1   \n",
       "2            1 -0.611205        0        0        0        0        1   \n",
       "3            0  1.175963        0        0        0        1        0   \n",
       "4            1  1.108871        0        0        0        0        1   \n",
       "\n",
       "   interior_0  interior_1  interior_2  interior_3  interior_4  seller_0  \\\n",
       "0           0           0           0           0           1         0   \n",
       "1           0           0           0           0           1         0   \n",
       "2           0           0           0           0           1         0   \n",
       "3           0           0           0           1           0         0   \n",
       "4           0           0           0           0           1         0   \n",
       "\n",
       "   seller_1  seller_2  seller_3  seller_4  seller_5  seller_6  seller_7  \\\n",
       "0         0         0         0         0         0         0         0   \n",
       "1         0         0         0         0         0         0         0   \n",
       "2         0         0         0         0         0         0         0   \n",
       "3         0         0         0         0         0         0         0   \n",
       "4         0         0         0         0         0         0         0   \n",
       "\n",
       "   seller_8  seller_9  seller_10  seller_11  seller_12  seller_13  sale_year  \\\n",
       "0         0         0          0          0          0          1   0.328663   \n",
       "1         0         0          0          0          1          0   0.328663   \n",
       "2         0         0          0          0          1          1   0.328663   \n",
       "3         0         0          0          1          0          0   0.328663   \n",
       "4         0         0          0          1          0          1   0.328663   \n",
       "\n",
       "   sale_month       age  \n",
       "0    0.672419 -0.218090  \n",
       "1   -0.560021 -0.976742  \n",
       "2    0.672419 -0.470974  \n",
       "3    0.672419  1.804982  \n",
       "4   -0.560021  0.793446  "
      ]
     },
     "execution_count": 57,
     "metadata": {},
     "output_type": "execute_result"
    }
   ],
   "source": [
    "#Итого:\n",
    "features_train.head()"
   ]
  },
  {
   "cell_type": "markdown",
   "id": "2937f0d8-852c-45c4-b2bd-b8a8ebb0a484",
   "metadata": {},
   "source": [
    "## Выбор модели"
   ]
  },
  {
   "cell_type": "markdown",
   "id": "a8ce579f-3022-4713-85f0-905ee7b663d2",
   "metadata": {},
   "source": [
    "В соревновании выбранной метрикой является MAPE, поэтому в GSCV будем опираться на неё."
   ]
  },
  {
   "cell_type": "markdown",
   "id": "40ffa021-d793-49db-86ff-45e79d680968",
   "metadata": {},
   "source": [
    "### CatBoostRegressor"
   ]
  },
  {
   "cell_type": "markdown",
   "id": "0d331ae2-ab08-4406-83e4-7e2b8ace8738",
   "metadata": {},
   "source": [
    "На 4090 подбор занял 45 минут, поэтому лучшие гиперпараметры использую в gridsearchcv, а те, на которых проводился подбор оставлю для ознакомления"
   ]
  },
  {
   "cell_type": "code",
   "execution_count": 58,
   "id": "1a84aa1a-f3d8-4c54-8bd7-8bb555a2a06f",
   "metadata": {
    "tags": []
   },
   "outputs": [],
   "source": [
    "#model = CatBoostRegressor(task_type=\"GPU\", devices='0:1', verbose=False, random_state=RS)\n",
    "#\n",
    "#parameters_cb = {'depth' : range(5, 20, 2),\n",
    "#              'learning_rate' : [0.01, 0.05, 0.1, 0.2],\n",
    "#              'iterations' : range(100, 501, 100)}\n",
    "##Добавлено уже после работы gscv\n",
    "#best_params_cb = {'depth': [11], 'iterations': [500], 'learning_rate': [0.1]}\n",
    "#\n",
    "#grid_cb = GridSearchCV(estimator=model, param_grid=best_params_cb, cv=5, scoring='neg_mean_absolute_percentage_error')\n",
    "#cb = grid_cb.fit(features_train, target_train)"
   ]
  },
  {
   "cell_type": "code",
   "execution_count": 59,
   "id": "cccdc6b3-2b70-447a-81a3-285ef00115fb",
   "metadata": {
    "tags": []
   },
   "outputs": [],
   "source": [
    "#print(f'Лучший набор гиперпараметров: для CatBoost {cb.best_params_}')\n",
    "#print(f\"Лучший MAPE на обучающей выборке: {-(cb.best_score_.round(5))}\")"
   ]
  },
  {
   "cell_type": "markdown",
   "id": "1464d928-4154-491b-a408-5eb31b6d9da4",
   "metadata": {},
   "source": [
    "Получаем достаточно хороший результат 0.188. Посмотрим, как себя покажет GBR"
   ]
  },
  {
   "cell_type": "markdown",
   "id": "4251b23a-db7e-4eff-8af4-1a2c11b6df5b",
   "metadata": {},
   "source": [
    "### GradientBoostingRegressor"
   ]
  },
  {
   "cell_type": "markdown",
   "id": "8c8aa0ed-a325-4620-a018-b0724fae4961",
   "metadata": {},
   "source": [
    "**Обучение модели занимает крайне долго даже с уже готовыми параметрами. Поскольку она показала неудовлетворяющие метрики, закоментирую её**"
   ]
  },
  {
   "cell_type": "code",
   "execution_count": 60,
   "id": "3e676826-239b-43bb-8c69-3c2390ae4eb4",
   "metadata": {
    "tags": []
   },
   "outputs": [],
   "source": [
    "#model = GradientBoostingRegressor(random_state=RS, verbose = 10)\n",
    "#\n",
    "#parameters_gbr = {'loss' : ['squared_error', 'huber', 'quantile', 'absolute_error'],\n",
    "#    'learning_rate' : [0.1],\n",
    "#    'n_estimators' : range(100, 601, 100)}\n",
    "##Добавлено уже после работы gscv\n",
    "#best_params_gbr = {'learning_rate': [0.1], 'loss': ['absolute_error'], 'n_estimators': [600]}\n",
    "#\n",
    "#grid_gbr = GridSearchCV(estimator=model, param_grid=best_params_gbr, cv=5, scoring='neg_mean_absolute_percentage_error', n_jobs= -1)\n",
    "#gbr = grid_gbr.fit(features_train, target_train)"
   ]
  },
  {
   "cell_type": "code",
   "execution_count": 61,
   "id": "da832c98-59b9-4f8e-9097-98c1f0503c25",
   "metadata": {
    "tags": []
   },
   "outputs": [],
   "source": [
    "#print(f'Лучший набор гиперпараметров: для GBR {gbr.best_params_}')\n",
    "#print(f\"Лучший MAPE на обучающей выборке: {-(gbr.best_score_.round(5))}\")"
   ]
  },
  {
   "cell_type": "markdown",
   "id": "42ce92a9-e7ef-4353-a322-ed72e7889882",
   "metadata": {},
   "source": [
    "Видим результат вдвое хуже, чем с catboost, поэтому gbr отметается. Рассмотрим другие модели"
   ]
  },
  {
   "cell_type": "markdown",
   "id": "e746db59-05b9-4d71-9b28-b738c1314dfe",
   "metadata": {},
   "source": [
    "### RandomForestRegressor"
   ]
  },
  {
   "cell_type": "code",
   "execution_count": 62,
   "id": "e4ea33f3-1e0c-424a-8e14-1e1cfac8d2de",
   "metadata": {},
   "outputs": [],
   "source": [
    "#model = RandomForestRegressor(random_state=RS, verbose = 10)\n",
    "#\n",
    "#parameters_rfr = {'criterion' : ['squared_error', 'poisson', 'friedman_mse', 'absolute_error'],\n",
    "#    'max_depth' : [5, 10, 15],\n",
    "#    'n_estimators' : range(100, 601, 100)}\n",
    "##Добавлено уже после работы gscv\n",
    "#best_params_rfr = []\n",
    "#\n",
    "#grid_rfr = GridSearchCV(estimator=model, param_grid=parameters_rfr, cv=5, scoring='neg_mean_absolute_percentage_error', n_jobs= -1)\n",
    "#rfr = grid_rfr.fit(features_train, target_train)"
   ]
  },
  {
   "cell_type": "code",
   "execution_count": 63,
   "id": "35b45bb6-25e5-43e7-b889-1a7fbfa5b437",
   "metadata": {
    "tags": []
   },
   "outputs": [],
   "source": [
    "#print(f'Лучший набор гиперпараметров: для RFR {rfr.best_params_}')\n",
    "#print(f\"Лучший MAPE на обучающей выборке: {-(rfr.best_score_.round(5))}\")"
   ]
  },
  {
   "cell_type": "markdown",
   "id": "e61161d4-c775-49ce-8631-13fe4dd26211",
   "metadata": {},
   "source": [
    "Получили mape, равный 0.27, что ощутимо хуже результата catboost, поэтому останавливаемся на нём. Ячейки по тем же причинам закоммнетировал."
   ]
  },
  {
   "cell_type": "markdown",
   "id": "acb2865e-2f98-4455-b49f-da8b29537bbb",
   "metadata": {},
   "source": [
    " Итого, лучшей моделью оказалась CatBoostRegressor с MAPE равным 0.184. Осталось сохранить предсказания, оформить это всё в готовый файл и загрузить на Kaggle"
   ]
  },
  {
   "cell_type": "markdown",
   "id": "b3818b19-9075-4d1c-9ff4-cf507bb818ab",
   "metadata": {},
   "source": [
    "## Фиксируем результат"
   ]
  },
  {
   "cell_type": "markdown",
   "id": "ca8e67a8-6caa-42b2-b9e5-737f28feae22",
   "metadata": {},
   "source": [
    "**Финальная модель**"
   ]
  },
  {
   "cell_type": "code",
   "execution_count": 65,
   "id": "1e550b0f-d523-4f12-aea4-db6c0c57fa2f",
   "metadata": {},
   "outputs": [
    {
     "name": "stdout",
     "output_type": "stream",
     "text": [
      "110058\n"
     ]
    },
    {
     "data": {
      "text/html": [
       "<div>\n",
       "<style scoped>\n",
       "    .dataframe tbody tr th:only-of-type {\n",
       "        vertical-align: middle;\n",
       "    }\n",
       "\n",
       "    .dataframe tbody tr th {\n",
       "        vertical-align: top;\n",
       "    }\n",
       "\n",
       "    .dataframe thead th {\n",
       "        text-align: right;\n",
       "    }\n",
       "</style>\n",
       "<table border=\"1\" class=\"dataframe\">\n",
       "  <thead>\n",
       "    <tr style=\"text-align: right;\">\n",
       "      <th></th>\n",
       "      <th>vin</th>\n",
       "      <th>0</th>\n",
       "    </tr>\n",
       "  </thead>\n",
       "  <tbody>\n",
       "    <tr>\n",
       "      <th>0</th>\n",
       "      <td>1g6dp567450124779</td>\n",
       "      <td>4631.824073</td>\n",
       "    </tr>\n",
       "    <tr>\n",
       "      <th>1</th>\n",
       "      <td>1gtw7fca7e1902207</td>\n",
       "      <td>22277.686542</td>\n",
       "    </tr>\n",
       "    <tr>\n",
       "      <th>2</th>\n",
       "      <td>jn8az1mw6dw303497</td>\n",
       "      <td>19328.331204</td>\n",
       "    </tr>\n",
       "    <tr>\n",
       "      <th>3</th>\n",
       "      <td>2g1wf5e34d1160703</td>\n",
       "      <td>8920.284065</td>\n",
       "    </tr>\n",
       "    <tr>\n",
       "      <th>4</th>\n",
       "      <td>1n6aa0ec3dn301209</td>\n",
       "      <td>22356.171045</td>\n",
       "    </tr>\n",
       "  </tbody>\n",
       "</table>\n",
       "</div>"
      ],
      "text/plain": [
       "                 vin             0\n",
       "0  1g6dp567450124779   4631.824073\n",
       "1  1gtw7fca7e1902207  22277.686542\n",
       "2  jn8az1mw6dw303497  19328.331204\n",
       "3  2g1wf5e34d1160703   8920.284065\n",
       "4  1n6aa0ec3dn301209  22356.171045"
      ]
     },
     "execution_count": 65,
     "metadata": {},
     "output_type": "execute_result"
    }
   ],
   "source": [
    "best_model = CatBoostRegressor(depth=11, iterations=500, learning_rate=0.1, random_state=RS, verbose=False)\n",
    "best_model.fit(features_train, target_train)\n",
    "\n",
    "#Сохраняем предсказания и вины в отдельные переменные\n",
    "final_predictions = best_model.predict(features_test)\n",
    "vins = pd.read_csv('./datasets/test.csv')['vin']\n",
    "\n",
    "#Объединяем\n",
    "kaggle_final = pd.merge(vins, pd.DataFrame(final_predictions), left_index=True, right_index=True)"
   ]
  },
  {
   "cell_type": "code",
   "execution_count": 78,
   "id": "7e7ee4e1-4538-48bc-a675-90c1c7aa6227",
   "metadata": {
    "tags": []
   },
   "outputs": [],
   "source": [
    "kaggle_final.columns= ['vin', 'sellingprice']"
   ]
  },
  {
   "cell_type": "code",
   "execution_count": 80,
   "id": "6a628b46-ea14-45ad-8b52-08cce6092ff3",
   "metadata": {
    "tags": []
   },
   "outputs": [],
   "source": [
    "#Сохраняем файл\n",
    "#kaggle_final.to_csv(r'C:\\Users\\kotof\\Documents\\YandexPracticum\\workshop-one\\datasets\\kaggle_submission_efkas.csv', index=False)"
   ]
  },
  {
   "cell_type": "markdown",
   "id": "d48124d2-06d8-4f04-9e97-c2c8378d761a",
   "metadata": {},
   "source": [
    "# Выводы"
   ]
  },
  {
   "cell_type": "markdown",
   "id": "828f2431-e88b-46a3-a297-cd106d39b887",
   "metadata": {},
   "source": [
    "В этом проекте нашей задачей было разработать модель с наименьшим MAPE для предсказания стоимости подержанных автомобилей на рынке.\n",
    "\n",
    "Для этих целей были импортированы библиотеки для анализа данных, предобработки и восстановления информации. Была проведена предобработка данных. В ходе неё были заполнены пропуски в столбцах: color, make, model, interior, odometer и transmission. Благодаря библиотекам pyvin и vininfo удалось заполнить пропуски о моделях и производителях без каких-либо компромиссов и заглушек. Также была создана функция, чтобы выявить модели авто только с автоматической и механической коробкой передач, и были заполнены 30% пропусков в transmission таким образом. \n",
    "\n",
    "Также были обработаны различные дубликаты. В первую очередь все текстовые значения были приведены к нижнему регистру, в них были убраны лишние пробелы. Таким образом уже удалось устранить значительную часть неочевидных дубликатов. После этого были изучены столбцы по отдельности и их уникальные значения (где возможно), и были устранены дополнительные дубликаты. Были исправлены названия и дубли автомобилей в столбце make.\n",
    "\n",
    "Также были изменены типы данных. Последний столбец был приведён к нужному виду, после чего его удалось перевести в datetime, числовые признаки были переведены в тип int32 ввиду ненадобности 64 бит для подобных значений. Благодаря переводу столбца saledate в datetime удалось создать новые столбцы с отдельными годами и месяцами продажи, а также возрастом автомобилей, а от изначального избавиться.Также были удалены выбросы методом межквартильного размаха.\n",
    "\n",
    "Перед разработкой модели данные были масштабированы и кодированы. Если с масштабированием никаких вопрос не возникает, то привычный нам из OHE не подходил, поскольку в датасете мы имеем десятки тысяч уникальных значений. Вторым вариантом был OrdinalEncoder, который тоже не очень хорошо подходил на эту роль, поскольку вносил в данные зависимости, которых на самом деле нет. К примеру, порядковая модель 50 будет \"весить\" для модели больше, чем порядковая модель 15, хотя в действительности такого соотношения в значимости нет. По этой причине был выбран BinaryEncoder. Он позволял нам сохранить адекватный размер обработанного датафрейма, а так же не вносить новую некорректную информацию в данные.\n",
    "\n",
    "После этого были протестированы несколько моделей. GradientBoostRegressor, CatBoostRegressor и RandomForestRegressor. Хуже всего себя показал GBR, выдав MAPE равный 35%. Первая же модель, а именно CBR, показала наилучший MAPE, равный 18%, по этой причине выбор пал на неё. Плюс она относительно быстрее своих собратьев.\n",
    "\n",
    "Файл с вин номерами и предсказаниями был загружен на kaggle, до окончания соревнования MAPE на тестовых данных составил 15%, что является достаточно хорошим результатом.\n",
    "\n",
    "**Спасибо всем студентам практикума, кто также работал над этим проектом, и помогал в общем чате при необходимости. Рад был работать вместе!**"
   ]
  },
  {
   "cell_type": "code",
   "execution_count": null,
   "id": "ad57a238-6585-4b00-a6f0-480e2e725b24",
   "metadata": {},
   "outputs": [],
   "source": []
  }
 ],
 "metadata": {
  "kernelspec": {
   "display_name": "Python 3 (ipykernel)",
   "language": "python",
   "name": "python3"
  },
  "language_info": {
   "codemirror_mode": {
    "name": "ipython",
    "version": 3
   },
   "file_extension": ".py",
   "mimetype": "text/x-python",
   "name": "python",
   "nbconvert_exporter": "python",
   "pygments_lexer": "ipython3",
   "version": "3.11.4"
  },
  "toc-autonumbering": true
 },
 "nbformat": 4,
 "nbformat_minor": 5
}
